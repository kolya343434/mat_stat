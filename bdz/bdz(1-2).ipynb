{
 "cells": [
  {
   "cell_type": "markdown",
   "metadata": {},
   "source": [
    "# Вариант №14."
   ]
  },
  {
   "cell_type": "code",
   "execution_count": 119,
   "metadata": {},
   "outputs": [],
   "source": [
    "variant = 14"
   ]
  },
  {
   "cell_type": "markdown",
   "metadata": {},
   "source": [
    "<a id=\"0\"></a>"
   ]
  },
  {
   "cell_type": "markdown",
   "metadata": {},
   "source": [
    "# Импорты и определения"
   ]
  },
  {
   "cell_type": "code",
   "execution_count": 56,
   "metadata": {},
   "outputs": [],
   "source": [
    "import numpy as np\n",
    "from scipy import stats\n",
    "import math as m\n",
    "import statsmodels.api as sm\n",
    "\n",
    "import pandas as pd\n",
    "import matplotlib.pyplot as plt\n",
    "from IPython.display import display, Markdown  # для вывода \n",
    "from pathlib import Path\n"
   ]
  },
  {
   "cell_type": "code",
   "execution_count": 57,
   "metadata": {},
   "outputs": [],
   "source": [
    "def printf(*strings):  # функция вывода маркдаун в консоль\n",
    "    for s in strings:\n",
    "        display(Markdown(s))\n",
    "\n",
    "# можно выводить latex в надписях matplotlib\n",
    "plt.rc(\"text\", usetex=False)\n",
    "plt.rcParams[\"font.family\"] = \"DejaVu Sans\"\n",
    "plt.rc(\n",
    "    \"text.latex\",\n",
    "    preamble=r\"\"\"\n",
    "\\usepackage[english, russian]{babel}\n",
    "\\usepackage[utf8]{inputenc}\n",
    "\"\"\",\n",
    ")\n",
    "plt.style.use(\"seaborn-v0_8\")\n",
    "\n",
    "def dataframe_to_markdown(df):\n",
    "    if df.index.name is None:\n",
    "        first_cell = \"Index\"\n",
    "    elif df.columns.name is None:\n",
    "        first_cell = df.index.name\n",
    "    else:\n",
    "        first_cell = df.index.name + \"\\\\\" + df.columns.name\n",
    "    markdown_table = \"| \" + first_cell + \" | \" + \" | \".join(df.columns) + \" |\\n\"\n",
    "    markdown_table += \"|---\" * (len(df.columns) + 1) + \"|\\n\"  # Учитываем индекс\n",
    "\n",
    "    for index, row in df.iterrows():\n",
    "        row_values = [str(round(val, 2) if type(val) != str else val) for val in row]\n",
    "        markdown_table += f\"| {index} | \" + \" | \".join(row_values) + \" |\\n\"\n",
    "\n",
    "    return markdown_table\n",
    "\n",
    "\n"
   ]
  },
  {
   "cell_type": "code",
   "execution_count": 58,
   "metadata": {},
   "outputs": [
    {
     "data": {
      "text/plain": [
       "'d:\\\\помощь\\\\.vscode'"
      ]
     },
     "execution_count": 58,
     "metadata": {},
     "output_type": "execute_result"
    }
   ],
   "source": [
    "%pwd"
   ]
  },
  {
   "cell_type": "code",
   "execution_count": 59,
   "metadata": {},
   "outputs": [],
   "source": [
    "path_to_vars = Path(\"C:/Users/79165/Downloads/gfggf/var_matstat_K5.xls\")\n",
    "path_to_data = Path(\"C:/Users/79165/Downloads/gfggf/data_matstat_K5.xls\")\n"
   ]
  },
  {
   "cell_type": "code",
   "execution_count": 60,
   "metadata": {},
   "outputs": [
    {
     "data": {
      "text/plain": [
       "1.1         B16 B17 B18\n",
       "1.2                 B16\n",
       "2.1, 3.1            B16\n",
       "2.2, 3.2            B16\n",
       "2.3, 3.3        B16 B17\n",
       "Name: 14, dtype: object"
      ]
     },
     "execution_count": 60,
     "metadata": {},
     "output_type": "execute_result"
    }
   ],
   "source": [
    "# считываем столбики для варианта\n",
    "datas = pd.read_excel(path_to_vars, index_col=0).loc[variant]\n",
    "\n",
    "datas.head()"
   ]
  },
  {
   "cell_type": "code",
   "execution_count": 79,
   "metadata": {},
   "outputs": [
    {
     "name": "stdout",
     "output_type": "stream",
     "text": [
      "{'1.1': ['B16', 'B17', 'B18'], '1.2': ['B16'], '2.1': ['B16'], '3.1': ['B16'], '2.2': ['B16'], '3.2': ['B16'], '2.3': ['B16', 'B17'], '3.3': ['B16', 'B17'], '2.4': ['B16', 'B17'], '3.4': ['B16', 'B17'], '4': ['B16'], '5': ['B16', 'B17'], '6': ['B3', 'B5'], '7': ['B3', 'B16'], '8.1': ['B16', 'B17'], '8.2': ['B16', 'B17', 'B18'], '9.1': ['B16', 'B2'], '9.2': ['B16', 'B2'], '9.3': ['B16', 'B7', 'B2']}\n"
     ]
    }
   ],
   "source": [
    "\n",
    "variant_dict = dict()\n",
    "for tasks in datas.index:\n",
    "    for task in tasks.split(\", \"):\n",
    "        variant_dict[task] = (\n",
    "            datas[tasks]\n",
    "            .replace(\"А\", \"A\")\n",
    "            .replace(\"В\", \"B\")\n",
    "            .replace(\"С\", \"C\")\n",
    "            .split(\" \")\n",
    "        )\n",
    "\n",
    "print(variant_dict)"
   ]
  },
  {
   "cell_type": "markdown",
   "metadata": {},
   "source": [
    "### Считываем информацию из excel"
   ]
  },
  {
   "cell_type": "code",
   "execution_count": 62,
   "metadata": {},
   "outputs": [
    {
     "data": {
      "text/plain": [
       "dict_keys(['description', 'A - aaup', 'B - bodyfat', 'C - plasma', 'D - homedat'])"
      ]
     },
     "execution_count": 62,
     "metadata": {},
     "output_type": "execute_result"
    }
   ],
   "source": [
    "dfs = pd.read_excel(path_to_data, sheet_name=None)\n",
    "dfs.keys()"
   ]
  },
  {
   "cell_type": "code",
   "execution_count": 63,
   "metadata": {},
   "outputs": [
    {
     "name": "stdout",
     "output_type": "stream",
     "text": [
      "{'A': 'A - aaup', 'B': 'B - bodyfat', 'C': 'C - plasma', 'D': 'D - homedat'}\n"
     ]
    }
   ],
   "source": [
    "# создаём словарик: буква -> название листа в excel\n",
    "sheet_dict = dict()\n",
    "for value in list(dfs.keys())[1:]:\n",
    "    key = value[0]\n",
    "    sheet_dict[key] = value\n",
    "print(sheet_dict)"
   ]
  },
  {
   "cell_type": "code",
   "execution_count": 64,
   "metadata": {},
   "outputs": [],
   "source": [
    "# функция: задание -> необходимые данные\n",
    "def data(task):\n",
    "    X = []\n",
    "    for data in variant_dict[task]:\n",
    "        sheet = data[0]\n",
    "        column = data\n",
    "        df = dfs[sheet_dict[sheet]][column]\n",
    "        X.append(df)\n",
    "    return X"
   ]
  },
  {
   "cell_type": "markdown",
   "metadata": {},
   "source": [
    "### Дополнительные функции"
   ]
  },
  {
   "cell_type": "code",
   "execution_count": 65,
   "metadata": {},
   "outputs": [],
   "source": [
    "def verdict(alpha, p_value):\n",
    "    if alpha > p_value:\n",
    "        return \"$H_0$ отклоняется\"\n",
    "    else:\n",
    "        return \"$H_0$ принимается\""
   ]
  },
  {
   "cell_type": "markdown",
   "metadata": {},
   "source": [
    "<a id=\"1\"></a>"
   ]
  },
  {
   "cell_type": "markdown",
   "metadata": {},
   "source": [
    "# Раздел 1. Описательные статистики"
   ]
  },
  {
   "cell_type": "markdown",
   "metadata": {},
   "source": [
    "<a id=\"11\"></a>"
   ]
  },
  {
   "cell_type": "markdown",
   "metadata": {},
   "source": [
    "## 1.1 Выборочные характеристики"
   ]
  },
  {
   "cell_type": "markdown",
   "metadata": {},
   "source": [
    "### Условие"
   ]
  },
  {
   "cell_type": "markdown",
   "metadata": {},
   "source": [
    "Анализируемый признак 1 – `B16` \n",
    "\n",
    "Анализируемый признак 2 – `B17` \n",
    "\n",
    "Анализируемый признак 3 – `B18` "
   ]
  },
  {
   "cell_type": "code",
   "execution_count": 80,
   "metadata": {},
   "outputs": [
    {
     "name": "stdout",
     "output_type": "stream",
     "text": [
      "0    32.0\n",
      "1    30.5\n",
      "2    28.8\n",
      "3    32.4\n",
      "4    32.2\n",
      "Name: B16, dtype: float64\n",
      "0    27.4\n",
      "1    28.9\n",
      "2    25.2\n",
      "3    29.4\n",
      "4    27.7\n",
      "Name: B17, dtype: float64\n",
      "0    17.1\n",
      "1    18.2\n",
      "2    16.6\n",
      "3    18.2\n",
      "4    17.7\n",
      "Name: B18, dtype: float64\n"
     ]
    }
   ],
   "source": [
    "columns = data(\"1.1\")\n",
    "for i in columns:\n",
    "    print(i.head())"
   ]
  },
  {
   "cell_type": "markdown",
   "metadata": {},
   "source": [
    "### Привести формулы расчёта выборочных характеристик"
   ]
  },
  {
   "cell_type": "markdown",
   "metadata": {},
   "source": [
    "| Выборочная характеристика                | Формула расчёта                                                                                                                                                                                                                                 |\n",
    "| ---------------------------------------- | ----------------------------------------------------------------------------------------------------------------------------------------------------------------------------------------------------------------------------------------------- |\n",
    "| Объём выборки                            | $n$                                                                                                                                                                                                                                             |\n",
    "| Среднее                                  | $\\overline x = \\dfrac{1}{n} \\sum\\limits_{i = 1}^{n} x_i$                                                                                                                                                                                        |\n",
    "| Выборочная дисперсия                     | $D_X^* = \\dfrac{1}{n} \\sum\\limits_{i = 1}^{n} \\left(x_i - \\overline x\\right)^2$                                                                                                                                                                 |\n",
    "| Выборочное среднеквадратичное отклонение | $\\sigma_X^* = \\sqrt{D_X^*} =\\sqrt{\\dfrac{1}{n} \\sum\\limits_{i = 1}^{n} \\left(x_i - \\overline x\\right)^2}$                                                                                                                                       |\n",
    "| Выборочный коэффициент асимметрии        | $\\gamma_X^* = \\dfrac{\\mu_{3,X}^*}{\\left(\\sigma_X^*\\right)^3} = \\dfrac{\\dfrac{1}{n} \\sum\\limits_{i = 1}^{n} \\left(x_i - \\overline x\\right)^3}{\\left(\\dfrac{1}{n} \\sum\\limits_{i = 1}^{n} \\left(x_i - \\overline x\\right)^2\\right)^{\\frac{3}{2}}}$ |\n",
    "| Выборочный эксцесс                       |      $\\varepsilon_X^* = \\dfrac{\\mu_{4,X}^*}{\\left(\\sigma_X^*\\right)^4} - 3 = \\dfrac{\\dfrac{1}{n} \\sum\\limits_{i = 1}^{n} \\left(x_i - \\overline x\\right)^4}{\\left(\\dfrac{1}{n} \\sum\\limits_{i = 1}^{n} \\left(x_i - \\overline x\\right)^2\\right)^2} - 3$                                                                                                                                                                                                                                           |\n"
   ]
  },
  {
   "cell_type": "markdown",
   "metadata": {},
   "source": [
    "### Рассчет выборочных характеристик"
   ]
  },
  {
   "cell_type": "markdown",
   "metadata": {},
   "source": [
    "`pd.skew()` возвращает несмещенный выборочный коэффициент асимметрии\n",
    "\n",
    "`kurtosis()` экцесса\n"
   ]
  },
  {
   "cell_type": "code",
   "execution_count": 82,
   "metadata": {},
   "outputs": [
    {
     "data": {
      "text/markdown": [
       "$\\mathbf{X_1}:$         $\\overline x_1 =$ 32.27;         $D^*_{X_1} =$ 9.09;         $\\sigma^*_{X_1} =$ 3.02;         $\\gamma^*_{X_1} =$ 0.28;         $\\varepsilon^*_{X_1} =$ 0.46         "
      ],
      "text/plain": [
       "<IPython.core.display.Markdown object>"
      ]
     },
     "metadata": {},
     "output_type": "display_data"
    },
    {
     "data": {
      "text/markdown": [
       "$\\mathbf{X_2}:$         $\\overline x_2 =$ 28.66;         $D^*_{X_2} =$ 4.07;         $\\sigma^*_{X_2} =$ 2.02;         $\\gamma^*_{X_2} =$ -0.22;         $\\varepsilon^*_{X_2} =$ 0.83         "
      ],
      "text/plain": [
       "<IPython.core.display.Markdown object>"
      ]
     },
     "metadata": {},
     "output_type": "display_data"
    },
    {
     "data": {
      "text/markdown": [
       "$\\mathbf{X_3}:$         $\\overline x_3 =$ 18.23;         $D^*_{X_3} =$ 0.87;         $\\sigma^*_{X_3} =$ 0.93;         $\\gamma^*_{X_3} =$ 0.28;         $\\varepsilon^*_{X_3} =$ 0.36         "
      ],
      "text/plain": [
       "<IPython.core.display.Markdown object>"
      ]
     },
     "metadata": {},
     "output_type": "display_data"
    }
   ],
   "source": [
    "for i, X in enumerate(columns, start=1):\n",
    "    mean_ = X.mean()\n",
    "    D = X.var(ddof=0)\n",
    "    d = X.std(ddof=0)\n",
    "    g = stats.skew(X, bias=True)\n",
    "    e = stats.kurtosis(X, bias=True)\n",
    "    output = f\"$\\\\mathbf{{X_{i}}}:$ \\\n",
    "        $\\\\overline x_{i} =$ {mean_:.2f}; \\\n",
    "        $D^*_{{X_{i}}} =$ {D:.2f}; \\\n",
    "        $\\\\sigma^*_{{X_{i}}} =$ {d:.2f}; \\\n",
    "        $\\\\gamma^*_{{X_{i}}} =$ {g:.2f}; \\\n",
    "        $\\\\varepsilon^*_{{X_{i}}} =$ {e:.2f} \\\n",
    "        \"\n",
    "    printf(output)"
   ]
  },
  {
   "cell_type": "markdown",
   "metadata": {},
   "source": [
    "| Выборочная характеристика                | Признак 1 | Признак 2 | Признак 3 |\n",
    "| ---------------------------------------- | --------- | --------- | --------- |\n",
    "| Среднее                                  | 32.27    | 28.66   | 18.23     |\n",
    "| Выборочная дисперсия                     | 9.09     | 4.07    | 0.87      |\n",
    "| Выборочное среднеквадратичное отклонение | 3.02     | 2.02    | 0.93      |\n",
    "| Выборочный коэффициент асимметрии        | 0.28     | -0.22   | 0.28      |\n",
    "| Выборочный эксцесс                       | 0.46     |  0.83   | 0.36      |\n"
   ]
  },
  {
   "cell_type": "markdown",
   "metadata": {},
   "source": [
    "<a id=\"12\"></a>"
   ]
  },
  {
   "cell_type": "markdown",
   "metadata": {},
   "source": [
    "## 1.2 Группировка и гистограммы частот"
   ]
  },
  {
   "cell_type": "markdown",
   "metadata": {},
   "source": [
    "### Условие"
   ]
  },
  {
   "cell_type": "markdown",
   "metadata": {},
   "source": [
    "Анализируемый признак – `B16` \n",
    "\n",
    "Объём выборки – $n$ = `252`"
   ]
  },
  {
   "cell_type": "markdown",
   "metadata": {},
   "source": [
    "### Определения"
   ]
  },
  {
   "cell_type": "code",
   "execution_count": 83,
   "metadata": {},
   "outputs": [
    {
     "data": {
      "text/plain": [
       "0      32.0\n",
       "1      30.5\n",
       "2      28.8\n",
       "3      32.4\n",
       "4      32.2\n",
       "       ... \n",
       "247    25.6\n",
       "248    35.2\n",
       "249    31.3\n",
       "250    30.5\n",
       "251    33.7\n",
       "Name: B16, Length: 252, dtype: float64"
      ]
     },
     "execution_count": 83,
     "metadata": {},
     "output_type": "execute_result"
    }
   ],
   "source": [
    "X = data(\"1.2\")[0]\n",
    "X"
   ]
  },
  {
   "cell_type": "code",
   "execution_count": 84,
   "metadata": {},
   "outputs": [
    {
     "name": "stdout",
     "output_type": "stream",
     "text": [
      "252\n"
     ]
    }
   ],
   "source": [
    "print(n := len(X))"
   ]
  },
  {
   "cell_type": "code",
   "execution_count": 85,
   "metadata": {},
   "outputs": [
    {
     "data": {
      "text/html": [
       "<div>\n",
       "<style scoped>\n",
       "    .dataframe tbody tr th:only-of-type {\n",
       "        vertical-align: middle;\n",
       "    }\n",
       "\n",
       "    .dataframe tbody tr th {\n",
       "        vertical-align: top;\n",
       "    }\n",
       "\n",
       "    .dataframe thead th {\n",
       "        text-align: right;\n",
       "    }\n",
       "</style>\n",
       "<table border=\"1\" class=\"dataframe\">\n",
       "  <thead>\n",
       "    <tr style=\"text-align: right;\">\n",
       "      <th></th>\n",
       "      <th>value</th>\n",
       "    </tr>\n",
       "  </thead>\n",
       "  <tbody>\n",
       "    <tr>\n",
       "      <th>0</th>\n",
       "      <td>32.0</td>\n",
       "    </tr>\n",
       "    <tr>\n",
       "      <th>1</th>\n",
       "      <td>30.5</td>\n",
       "    </tr>\n",
       "    <tr>\n",
       "      <th>2</th>\n",
       "      <td>28.8</td>\n",
       "    </tr>\n",
       "    <tr>\n",
       "      <th>3</th>\n",
       "      <td>32.4</td>\n",
       "    </tr>\n",
       "    <tr>\n",
       "      <th>4</th>\n",
       "      <td>32.2</td>\n",
       "    </tr>\n",
       "  </tbody>\n",
       "</table>\n",
       "</div>"
      ],
      "text/plain": [
       "   value\n",
       "0   32.0\n",
       "1   30.5\n",
       "2   28.8\n",
       "3   32.4\n",
       "4   32.2"
      ]
     },
     "execution_count": 85,
     "metadata": {},
     "output_type": "execute_result"
    }
   ],
   "source": [
    "X = pd.DataFrame(X.values, columns=[\"value\"])\n",
    "X.head()"
   ]
  },
  {
   "cell_type": "markdown",
   "metadata": {},
   "source": [
    "### Выбрать число групп"
   ]
  },
  {
   "cell_type": "code",
   "execution_count": 88,
   "metadata": {},
   "outputs": [
    {
     "data": {
      "text/markdown": [
       "$\\mathbf{X}: \\max = 45.0, \\min = 24.8, n = 252, k = 8$"
      ],
      "text/plain": [
       "<IPython.core.display.Markdown object>"
      ]
     },
     "metadata": {},
     "output_type": "display_data"
    }
   ],
   "source": [
    "maximum = max(X[\"value\"])\n",
    "minimum = min(X[\"value\"])\n",
    "k = round(1 + 1.3 * m.log(n))\n",
    "printf(f\"$\\\\mathbf{{X}}: \\\\max = {maximum}, \\\\min = {minimum}, n = {n}, k = {k}$\")"
   ]
  },
  {
   "cell_type": "code",
   "execution_count": 89,
   "metadata": {},
   "outputs": [
    {
     "data": {
      "text/html": [
       "<div>\n",
       "<style scoped>\n",
       "    .dataframe tbody tr th:only-of-type {\n",
       "        vertical-align: middle;\n",
       "    }\n",
       "\n",
       "    .dataframe tbody tr th {\n",
       "        vertical-align: top;\n",
       "    }\n",
       "\n",
       "    .dataframe thead th {\n",
       "        text-align: right;\n",
       "    }\n",
       "</style>\n",
       "<table border=\"1\" class=\"dataframe\">\n",
       "  <thead>\n",
       "    <tr style=\"text-align: right;\">\n",
       "      <th></th>\n",
       "      <th>value</th>\n",
       "      <th>group</th>\n",
       "    </tr>\n",
       "  </thead>\n",
       "  <tbody>\n",
       "    <tr>\n",
       "      <th>0</th>\n",
       "      <td>32.0</td>\n",
       "      <td>(29.85, 32.375]</td>\n",
       "    </tr>\n",
       "    <tr>\n",
       "      <th>1</th>\n",
       "      <td>30.5</td>\n",
       "      <td>(29.85, 32.375]</td>\n",
       "    </tr>\n",
       "    <tr>\n",
       "      <th>2</th>\n",
       "      <td>28.8</td>\n",
       "      <td>(27.325, 29.85]</td>\n",
       "    </tr>\n",
       "    <tr>\n",
       "      <th>3</th>\n",
       "      <td>32.4</td>\n",
       "      <td>(32.375, 34.9]</td>\n",
       "    </tr>\n",
       "    <tr>\n",
       "      <th>4</th>\n",
       "      <td>32.2</td>\n",
       "      <td>(29.85, 32.375]</td>\n",
       "    </tr>\n",
       "  </tbody>\n",
       "</table>\n",
       "</div>"
      ],
      "text/plain": [
       "   value            group\n",
       "0   32.0  (29.85, 32.375]\n",
       "1   30.5  (29.85, 32.375]\n",
       "2   28.8  (27.325, 29.85]\n",
       "3   32.4   (32.375, 34.9]\n",
       "4   32.2  (29.85, 32.375]"
      ]
     },
     "execution_count": 89,
     "metadata": {},
     "output_type": "execute_result"
    }
   ],
   "source": [
    "X[\"group\"] = pd.cut(X[\"value\"], bins=k)\n",
    "X.head()"
   ]
  },
  {
   "cell_type": "code",
   "execution_count": 90,
   "metadata": {},
   "outputs": [
    {
     "data": {
      "text/markdown": [
       "Ширина интервалов: от 2.52 до 2.54"
      ],
      "text/plain": [
       "<IPython.core.display.Markdown object>"
      ]
     },
     "metadata": {},
     "output_type": "display_data"
    }
   ],
   "source": [
    "delta_min = np.min(\n",
    "    [interval.right - interval.left for interval in X[\"group\"].cat.categories]\n",
    ")\n",
    "delta_max = np.max(\n",
    "    [interval.right - interval.left for interval in X[\"group\"].cat.categories]\n",
    ")\n",
    "printf(f\"Ширина интервалов: от {delta_min:.2f} до {delta_max:.2f}\")"
   ]
  },
  {
   "cell_type": "markdown",
   "metadata": {},
   "source": [
    "| Число групп | Обоснование выбора числа групп                 | Ширина интервалов |\n",
    "| ----------- | ---------------------------------------------- | ----------------- |\n",
    "| 8           | Формула Стерджесса: $k \\approx 1 + 1,3 \\ln{n}$ | от 2.52 до 2.54   |\n"
   ]
  },
  {
   "cell_type": "markdown",
   "metadata": {},
   "source": [
    "### Построить таблицу частот"
   ]
  },
  {
   "cell_type": "code",
   "execution_count": 91,
   "metadata": {},
   "outputs": [
    {
     "data": {
      "text/html": [
       "<div>\n",
       "<style scoped>\n",
       "    .dataframe tbody tr th:only-of-type {\n",
       "        vertical-align: middle;\n",
       "    }\n",
       "\n",
       "    .dataframe tbody tr th {\n",
       "        vertical-align: top;\n",
       "    }\n",
       "\n",
       "    .dataframe thead th {\n",
       "        text-align: right;\n",
       "    }\n",
       "</style>\n",
       "<table border=\"1\" class=\"dataframe\">\n",
       "  <thead>\n",
       "    <tr style=\"text-align: right;\">\n",
       "      <th></th>\n",
       "      <th>low edge</th>\n",
       "      <th>high edge</th>\n",
       "      <th>frequency</th>\n",
       "      <th>relative frequency</th>\n",
       "      <th>cumulative frequency</th>\n",
       "      <th>cumulative relative frequency</th>\n",
       "    </tr>\n",
       "    <tr>\n",
       "      <th>Номер интервала</th>\n",
       "      <th></th>\n",
       "      <th></th>\n",
       "      <th></th>\n",
       "      <th></th>\n",
       "      <th></th>\n",
       "      <th></th>\n",
       "    </tr>\n",
       "  </thead>\n",
       "  <tbody>\n",
       "    <tr>\n",
       "      <th>1</th>\n",
       "      <td>24.780</td>\n",
       "      <td>27.325</td>\n",
       "      <td>11</td>\n",
       "      <td>0.043651</td>\n",
       "      <td>11</td>\n",
       "      <td>0.043651</td>\n",
       "    </tr>\n",
       "    <tr>\n",
       "      <th>2</th>\n",
       "      <td>27.325</td>\n",
       "      <td>29.850</td>\n",
       "      <td>41</td>\n",
       "      <td>0.162698</td>\n",
       "      <td>52</td>\n",
       "      <td>0.206349</td>\n",
       "    </tr>\n",
       "    <tr>\n",
       "      <th>3</th>\n",
       "      <td>29.850</td>\n",
       "      <td>32.375</td>\n",
       "      <td>81</td>\n",
       "      <td>0.321429</td>\n",
       "      <td>133</td>\n",
       "      <td>0.527778</td>\n",
       "    </tr>\n",
       "    <tr>\n",
       "      <th>4</th>\n",
       "      <td>32.375</td>\n",
       "      <td>34.900</td>\n",
       "      <td>66</td>\n",
       "      <td>0.261905</td>\n",
       "      <td>199</td>\n",
       "      <td>0.789683</td>\n",
       "    </tr>\n",
       "    <tr>\n",
       "      <th>5</th>\n",
       "      <td>34.900</td>\n",
       "      <td>37.425</td>\n",
       "      <td>44</td>\n",
       "      <td>0.174603</td>\n",
       "      <td>243</td>\n",
       "      <td>0.964286</td>\n",
       "    </tr>\n",
       "    <tr>\n",
       "      <th>6</th>\n",
       "      <td>37.425</td>\n",
       "      <td>39.950</td>\n",
       "      <td>8</td>\n",
       "      <td>0.031746</td>\n",
       "      <td>251</td>\n",
       "      <td>0.996032</td>\n",
       "    </tr>\n",
       "    <tr>\n",
       "      <th>7</th>\n",
       "      <td>39.950</td>\n",
       "      <td>42.475</td>\n",
       "      <td>0</td>\n",
       "      <td>0.000000</td>\n",
       "      <td>251</td>\n",
       "      <td>0.996032</td>\n",
       "    </tr>\n",
       "    <tr>\n",
       "      <th>8</th>\n",
       "      <td>42.475</td>\n",
       "      <td>45.000</td>\n",
       "      <td>1</td>\n",
       "      <td>0.003968</td>\n",
       "      <td>252</td>\n",
       "      <td>1.000000</td>\n",
       "    </tr>\n",
       "  </tbody>\n",
       "</table>\n",
       "</div>"
      ],
      "text/plain": [
       "                 low edge  high edge  frequency  relative frequency  \\\n",
       "Номер интервала                                                       \n",
       "1                  24.780     27.325         11            0.043651   \n",
       "2                  27.325     29.850         41            0.162698   \n",
       "3                  29.850     32.375         81            0.321429   \n",
       "4                  32.375     34.900         66            0.261905   \n",
       "5                  34.900     37.425         44            0.174603   \n",
       "6                  37.425     39.950          8            0.031746   \n",
       "7                  39.950     42.475          0            0.000000   \n",
       "8                  42.475     45.000          1            0.003968   \n",
       "\n",
       "                 cumulative frequency  cumulative relative frequency  \n",
       "Номер интервала                                                       \n",
       "1                                  11                       0.043651  \n",
       "2                                  52                       0.206349  \n",
       "3                                 133                       0.527778  \n",
       "4                                 199                       0.789683  \n",
       "5                                 243                       0.964286  \n",
       "6                                 251                       0.996032  \n",
       "7                                 251                       0.996032  \n",
       "8                                 252                       1.000000  "
      ]
     },
     "execution_count": 91,
     "metadata": {},
     "output_type": "execute_result"
    }
   ],
   "source": [
    "groups = pd.DataFrame(index=pd.Index(range(1, k + 1), name=\"Номер интервала\"))\n",
    "groups[\"low edge\"] = [interval.left for interval in X[\"group\"].cat.categories]\n",
    "groups[\"high edge\"] = [interval.right for interval in X[\"group\"].cat.categories]\n",
    "groups[\"frequency\"] = X[\"group\"].value_counts().sort_index().values\n",
    "groups[\"relative frequency\"] = groups[\"frequency\"] / n\n",
    "groups[\"cumulative frequency\"] = groups[\"frequency\"].cumsum()\n",
    "groups[\"cumulative relative frequency\"] = groups[\"cumulative frequency\"] / n\n",
    "groups"
   ]
  },
  {
   "cell_type": "code",
   "execution_count": 94,
   "metadata": {},
   "outputs": [
    {
     "name": "stdout",
     "output_type": "stream",
     "text": [
      "| Номер интервала | low edge | high edge | frequency | relative frequency | cumulative frequency | cumulative relative frequency |\n",
      "|---|---|---|---|---|---|---|\n",
      "| 1 | 24.78 | 27.32 | 11.0 | 0.04 | 11.0 | 0.04 |\n",
      "| 2 | 27.32 | 29.85 | 41.0 | 0.16 | 52.0 | 0.21 |\n",
      "| 3 | 29.85 | 32.38 | 81.0 | 0.32 | 133.0 | 0.53 |\n",
      "| 4 | 32.38 | 34.9 | 66.0 | 0.26 | 199.0 | 0.79 |\n",
      "| 5 | 34.9 | 37.42 | 44.0 | 0.17 | 243.0 | 0.96 |\n",
      "| 6 | 37.42 | 39.95 | 8.0 | 0.03 | 251.0 | 1.0 |\n",
      "| 7 | 39.95 | 42.48 | 0.0 | 0.0 | 251.0 | 1.0 |\n",
      "| 8 | 42.48 | 45.0 | 1.0 | 0.0 | 252.0 | 1.0 |\n",
      "\n"
     ]
    }
   ],
   "source": [
    "\n",
    "print(dataframe_to_markdown(groups))"
   ]
  },
  {
   "cell_type": "markdown",
   "metadata": {},
   "source": [
    "| Номер интервала | Нижняя граница | Верхняя граница | Частота | Относительная частота | Накопленная частота | Относительная накопленная частота |\n",
    "| --------------- | -------------- | --------------- | ------- | --------------------- | ------------------- | --------------------------------- |\n",
    "| 1               | 24.78        | 27.32          | 11.0      | 0.04                  | 11.0                | 0.04                             |\n",
    "| 2               | 27.32        | 29.85        | 41.0     | 0.16               | 52.0                | 0.21                              |\n",
    "| 3               | 29.85         | 32.38          | 81.0      | 0.32                   | 133.0                 | 0.52                              |\n",
    "| 4               | 32.38         | 34.9          | 66.0      | 0.26                  | 199.0                 | 0.79                              |\n",
    "| 5               | 34.9         | 37.42          | 44.0       | 0.17                  | 243.0                 | 0.96                              |\n",
    "| 6               | 37.42         | 39.95          | 8.0       | 0.03                   | 251.0                 | 1.0                              |\n",
    "| 7               | 39.95         | 42.48          | 0.0       | 0.0                   | 251.0                 | 1.00                              |\n",
    "| 8               | 42.48         | 45.0          | 1.0       | 0.0                   | 252.0                 | 1.00                              |"
   ]
  },
  {
   "cell_type": "markdown",
   "metadata": {},
   "source": [
    "### Построим гистограммы частот и полигоны частот"
   ]
  },
  {
   "cell_type": "code",
   "execution_count": 95,
   "metadata": {},
   "outputs": [],
   "source": [
    "bin_centers = (groups[\"low edge\"] + groups[\"high edge\"]) / 2\n",
    "width = groups[\"high edge\"] - groups[\"low edge\"]"
   ]
  },
  {
   "cell_type": "code",
   "execution_count": 98,
   "metadata": {},
   "outputs": [
    {
     "data": {
      "image/png": "[encoded data removed]",
      "text/plain": [
       "<Figure size 1000x600 with 4 Axes>"
      ]
     },
     "metadata": {},
     "output_type": "display_data"
    }
   ],
   "source": [
    "plt.rcParams.update({\"text.usetex\": False})\n",
    "plt.rcParams[\"font.family\"] = \"DejaVu Sans\"\n",
    "\n",
    "fig, axes = plt.subplots(2, 2, figsize=(10, 6))\n",
    "\n",
    "axes[0, 0].bar(\n",
    "    bin_centers,\n",
    "    groups[\"frequency\"],\n",
    "    width=width,\n",
    "    edgecolor=\"black\",\n",
    ")\n",
    "axes[0, 0].plot(bin_centers, groups[\"frequency\"], marker=\"o\", color=\"r\")\n",
    "axes[0, 0].set_xlabel(\"Значения\")\n",
    "axes[0, 0].set_ylabel(\"Частота\")\n",
    "axes[0, 0].set_title(\"Гистограмма и полигон частот\")\n",
    "\n",
    "axes[0, 1].bar(\n",
    "    bin_centers,\n",
    "    groups[\"relative frequency\"],\n",
    "    width=width,\n",
    "    edgecolor=\"black\",\n",
    ")\n",
    "axes[0, 1].plot(bin_centers, groups[\"relative frequency\"], marker=\"o\", color=\"r\")\n",
    "axes[0, 1].set_xlabel(\"Значения\")\n",
    "axes[0, 1].set_ylabel(\"Относительная частота\")\n",
    "axes[0, 1].set_title(\"Гистограмма и полигон относительных частот\")\n",
    "\n",
    "axes[1, 0].bar(\n",
    "    bin_centers,\n",
    "    groups[\"cumulative frequency\"],\n",
    "    width=width,\n",
    "    edgecolor=\"black\",\n",
    ")\n",
    "axes[1, 0].plot(bin_centers, groups[\"cumulative frequency\"], marker=\"o\", color=\"r\")\n",
    "axes[1, 0].set_xlabel(\"Значения\")\n",
    "axes[1, 0].set_ylabel(\"Накопленная частота частота\")\n",
    "axes[1, 0].set_title(\"Гистограмма и полигон накопленных частот\")\n",
    "\n",
    "axes[1, 1].bar(\n",
    "    bin_centers,\n",
    "    groups[\"cumulative relative frequency\"],\n",
    "    width=width,\n",
    "    edgecolor=\"black\",\n",
    ")\n",
    "axes[1, 1].plot(\n",
    "    bin_centers, groups[\"cumulative relative frequency\"], marker=\"o\", color=\"r\"\n",
    ")\n",
    "axes[1, 1].set_xlabel(\"Значения\")\n",
    "axes[1, 1].set_ylabel(\"Относительная накопленная частота частота\")\n",
    "axes[1, 1].set_title(\"Гистограмма и полигон относительных накопленных частот\")\n",
    "\n",
    "plt.tight_layout()\n",
    "plt.show()"
   ]
  },
  {
   "cell_type": "markdown",
   "metadata": {},
   "source": [
    "### Построить эмпирическую фукнцию распределения"
   ]
  },
  {
   "cell_type": "code",
   "execution_count": 118,
   "metadata": {},
   "outputs": [
    {
     "data": {
      "image/png": "[encoded data removed]",
      "text/plain": [
       "<Figure size 800x550 with 1 Axes>"
      ]
     },
     "metadata": {},
     "output_type": "display_data"
    }
   ],
   "source": [
    "\n",
    "\n",
    "X_sorted = np.sort(np.asarray(X))\n",
    "n = X_sorted.size\n",
    "\n",
    "# небольшие отступы слева/справа, чтобы ступеньки не упирались в края\n",
    "spread = X_sorted[-1] - X_sorted[0]\n",
    "pad = 0.05 * spread if spread > 0 else 1.0\n",
    "\n",
    "x_step = np.concatenate((\n",
    "    [X_sorted[0] - pad],\n",
    "    X_sorted,\n",
    "    [X_sorted[-1] + pad],\n",
    "))\n",
    "F = np.concatenate((\n",
    "    [0],\n",
    "    np.arange(1, n + 1) / n,\n",
    "    [1],\n",
    "))\n",
    "\n",
    "plt.step(x_step, F, where=\"post\", label=r\"$F_X^*(x)$\", linewidth=2)\n",
    "plt.xlim(x_step[0], x_step[-1])\n",
    "plt.ylim(-0.05, 1.05)\n",
    "plt.xlabel(\"Значения\")\n",
    "plt.ylabel(r\"$F_X^*(x)$\")\n",
    "plt.title(\"Эмпирическая функция распределения\")\n",
    "plt.legend()\n",
    "plt.grid(alpha=0.25)\n",
    "plt.show()\n",
    "\n",
    "\n"
   ]
  },
  {
   "cell_type": "markdown",
   "metadata": {},
   "source": [
    "<a id=\"2\"></a>"
   ]
  },
  {
   "cell_type": "markdown",
   "metadata": {},
   "source": [
    "# Раздел 2. Интервальные оценки"
   ]
  },
  {
   "cell_type": "markdown",
   "metadata": {},
   "source": [
    "<a id=\"21\"></a>"
   ]
  },
  {
   "cell_type": "markdown",
   "metadata": {},
   "source": [
    "## 2.1 Доверительные интервалы для математического ожидания"
   ]
  },
  {
   "cell_type": "markdown",
   "metadata": {},
   "source": [
    "### Условие"
   ]
  },
  {
   "cell_type": "markdown",
   "metadata": {},
   "source": [
    "Анализируемый признак – `B16` (Weight (lbs))\n",
    "\n",
    "Объём выборки – $n$ = `252`\n",
    "\n",
    "Оцениваемый параметр – `m`"
   ]
  },
  {
   "cell_type": "markdown",
   "metadata": {},
   "source": [
    "### Определения"
   ]
  },
  {
   "cell_type": "code",
   "execution_count": 101,
   "metadata": {},
   "outputs": [
    {
     "data": {
      "text/plain": [
       "0    32.0\n",
       "1    30.5\n",
       "2    28.8\n",
       "3    32.4\n",
       "4    32.2\n",
       "Name: B16, dtype: float64"
      ]
     },
     "execution_count": 101,
     "metadata": {},
     "output_type": "execute_result"
    }
   ],
   "source": [
    "X = data(\"2.1\")[0]\n",
    "X.head()"
   ]
  },
  {
   "cell_type": "code",
   "execution_count": 102,
   "metadata": {},
   "outputs": [
    {
     "name": "stdout",
     "output_type": "stream",
     "text": [
      "252\n"
     ]
    }
   ],
   "source": [
    "print(n := len(X))"
   ]
  },
  {
   "cell_type": "markdown",
   "metadata": {},
   "source": [
    "### Привести формулы расчёта доверительных интервалов"
   ]
  },
  {
   "cell_type": "markdown",
   "metadata": {},
   "source": [
    "Так как у нас есть только выборка, мы не можем знать параметров генеральной совокупности(в том числе $m$ и $\\sigma$), поэтому будем рассчитывать доверительные интервалы, используя данный факт. \n",
    "\n",
    "В данном случае `стьюдентизованное среднее` выступает в качестве центральной статистики:\n",
    "\n",
    "| Граница доверительного интервала | Формула расчёта                                                                               |\n",
    "| -------------------------------- | --------------------------------------------------------------------------------------------- |\n",
    "| Нижняя граница                   | $\\overline {\\mathbf{X}} - \\dfrac{S}{\\sqrt{n}} \\cdot t_{1-\\frac{\\alpha}{2}, \\left(n-1\\right)}$ |\n",
    "| Верхняя граница                  | $\\overline {\\mathbf{X}} + \\dfrac{S}{\\sqrt{n}} \\cdot t_{1-\\frac{\\alpha}{2}, \\left(n-1\\right)}$ |\n"
   ]
  },
  {
   "cell_type": "markdown",
   "metadata": {},
   "source": [
    "### Рассчет доверительных интервалов"
   ]
  },
  {
   "cell_type": "code",
   "execution_count": 103,
   "metadata": {},
   "outputs": [
    {
     "data": {
      "text/html": [
       "<div>\n",
       "<style scoped>\n",
       "    .dataframe tbody tr th:only-of-type {\n",
       "        vertical-align: middle;\n",
       "    }\n",
       "\n",
       "    .dataframe tbody tr th {\n",
       "        vertical-align: top;\n",
       "    }\n",
       "\n",
       "    .dataframe thead th {\n",
       "        text-align: right;\n",
       "    }\n",
       "</style>\n",
       "<table border=\"1\" class=\"dataframe\">\n",
       "  <thead>\n",
       "    <tr style=\"text-align: right;\">\n",
       "      <th></th>\n",
       "      <th>$\\alpha =$ 0.01</th>\n",
       "      <th>$\\alpha =$ 0.05</th>\n",
       "      <th>$\\alpha =$ 0.1</th>\n",
       "    </tr>\n",
       "    <tr>\n",
       "      <th>Граница доверительного интервала</th>\n",
       "      <th></th>\n",
       "      <th></th>\n",
       "      <th></th>\n",
       "    </tr>\n",
       "  </thead>\n",
       "  <tbody>\n",
       "    <tr>\n",
       "      <th>Нижняя граница</th>\n",
       "      <td>31.779420</td>\n",
       "      <td>31.898580</td>\n",
       "      <td>31.959201</td>\n",
       "    </tr>\n",
       "    <tr>\n",
       "      <th>Верхняя граница</th>\n",
       "      <td>32.767405</td>\n",
       "      <td>32.648245</td>\n",
       "      <td>32.587625</td>\n",
       "    </tr>\n",
       "  </tbody>\n",
       "</table>\n",
       "</div>"
      ],
      "text/plain": [
       "                                  $\\alpha =$ 0.01  $\\alpha =$ 0.05  \\\n",
       "Граница доверительного интервала                                     \n",
       "Нижняя граница                          31.779420        31.898580   \n",
       "Верхняя граница                         32.767405        32.648245   \n",
       "\n",
       "                                  $\\alpha =$ 0.1  \n",
       "Граница доверительного интервала                  \n",
       "Нижняя граница                         31.959201  \n",
       "Верхняя граница                        32.587625  "
      ]
     },
     "execution_count": 103,
     "metadata": {},
     "output_type": "execute_result"
    }
   ],
   "source": [
    "intervals = pd.DataFrame(\n",
    "    index=pd.Index(\n",
    "        [\"Нижняя граница\", \"Верхняя граница\"], name=\"Граница доверительного интервала\"\n",
    "    )\n",
    ")\n",
    "alphas = [0.01, 0.05, 0.1]\n",
    "std_err = stats.sem(X)\n",
    "for alpha in alphas:\n",
    "    intervals[f\"$\\\\alpha =$ {alpha}\"] = stats.t.interval(\n",
    "        1 - alpha, df=n - 1, loc=X.mean(), scale=std_err\n",
    "    )\n",
    "intervals"
   ]
  },
  {
   "cell_type": "code",
   "execution_count": 104,
   "metadata": {},
   "outputs": [
    {
     "name": "stdout",
     "output_type": "stream",
     "text": [
      "| Граница доверительного интервала | $\\alpha =$ 0.01 | $\\alpha =$ 0.05 | $\\alpha =$ 0.1 |\n",
      "|---|---|---|---|\n",
      "| Нижняя граница | 31.78 | 31.9 | 31.96 |\n",
      "| Верхняя граница | 32.77 | 32.65 | 32.59 |\n",
      "\n"
     ]
    }
   ],
   "source": [
    "print(dataframe_to_markdown(intervals))"
   ]
  },
  {
   "cell_type": "markdown",
   "metadata": {},
   "source": [
    "| Граница доверительного интервала | $\\alpha =$ 0.01 | $\\alpha =$ 0.05 | $\\alpha =$ 0.1 |\n",
    "| -------------------------------- | --------------- | --------------- | -------------- |\n",
    "| Нижняя граница                   | 31.78          | 31.9         | 31.96         |\n",
    "| Верхняя граница                  | 32.77         | 32.65         | 32.59        |"
   ]
  },
  {
   "cell_type": "markdown",
   "metadata": {},
   "source": [
    "<a id=\"22\"></a>"
   ]
  },
  {
   "cell_type": "markdown",
   "metadata": {},
   "source": [
    "## 2.2 Доверительные интервалы для дисперсии"
   ]
  },
  {
   "cell_type": "markdown",
   "metadata": {},
   "source": [
    "### Условие"
   ]
  },
  {
   "cell_type": "markdown",
   "metadata": {},
   "source": [
    "Анализируемый признак  – `B16` (Weight (lbs))\n",
    "\n",
    "Объём выборки – $n$ = `252`\n",
    "\n",
    "Оцениваемый параметр – $\\sigma^2$"
   ]
  },
  {
   "cell_type": "markdown",
   "metadata": {},
   "source": [
    "### Определения"
   ]
  },
  {
   "cell_type": "code",
   "execution_count": 105,
   "metadata": {},
   "outputs": [
    {
     "data": {
      "text/plain": [
       "0    32.0\n",
       "1    30.5\n",
       "2    28.8\n",
       "3    32.4\n",
       "4    32.2\n",
       "Name: B16, dtype: float64"
      ]
     },
     "execution_count": 105,
     "metadata": {},
     "output_type": "execute_result"
    }
   ],
   "source": [
    "X = data(\"2.2\")[0]\n",
    "X.head()"
   ]
  },
  {
   "cell_type": "code",
   "execution_count": 106,
   "metadata": {},
   "outputs": [
    {
     "name": "stdout",
     "output_type": "stream",
     "text": [
      "252\n"
     ]
    }
   ],
   "source": [
    "print(n := len(X))"
   ]
  },
  {
   "cell_type": "markdown",
   "metadata": {},
   "source": [
    "### Привести формулы расчёта доверительных интервалов"
   ]
  },
  {
   "cell_type": "markdown",
   "metadata": {},
   "source": [
    "| Граница доверительного интервала | Формула расчёта                                                                               |\n",
    "| -------------------------------- | --------------------------------------------------------------------------------------------- |\n",
    "| Нижняя граница                   | $\\dfrac{\\left(n-1\\right) \\cdot S^2}{\\chi^2_{1-\\frac{\\alpha}{2}, \\left(n-1\\right)}}$ |\n",
    "| Верхняя граница                  | $\\dfrac{\\left(n-1\\right) \\cdot S^2}{\\chi^2_{\\frac{\\alpha}{2}, \\left(n-1\\right)}}$ |\n"
   ]
  },
  {
   "cell_type": "markdown",
   "metadata": {},
   "source": [
    "### Рассчет доверительных интервалов"
   ]
  },
  {
   "cell_type": "code",
   "execution_count": 108,
   "metadata": {},
   "outputs": [
    {
     "data": {
      "text/html": [
       "<div>\n",
       "<style scoped>\n",
       "    .dataframe tbody tr th:only-of-type {\n",
       "        vertical-align: middle;\n",
       "    }\n",
       "\n",
       "    .dataframe tbody tr th {\n",
       "        vertical-align: top;\n",
       "    }\n",
       "\n",
       "    .dataframe thead th {\n",
       "        text-align: right;\n",
       "    }\n",
       "</style>\n",
       "<table border=\"1\" class=\"dataframe\">\n",
       "  <thead>\n",
       "    <tr style=\"text-align: right;\">\n",
       "      <th></th>\n",
       "      <th>$\\alpha =$ 0.01</th>\n",
       "      <th>$\\alpha =$ 0.05</th>\n",
       "      <th>$\\alpha =$ 0.1</th>\n",
       "    </tr>\n",
       "    <tr>\n",
       "      <th>Граница доверительного интервала</th>\n",
       "      <th></th>\n",
       "      <th></th>\n",
       "      <th></th>\n",
       "    </tr>\n",
       "  </thead>\n",
       "  <tbody>\n",
       "    <tr>\n",
       "      <th>Нижняя граница</th>\n",
       "      <td>7.332595</td>\n",
       "      <td>7.720132</td>\n",
       "      <td>7.929094</td>\n",
       "    </tr>\n",
       "    <tr>\n",
       "      <th>Верхняя граница</th>\n",
       "      <td>11.627525</td>\n",
       "      <td>10.961915</td>\n",
       "      <td>10.640781</td>\n",
       "    </tr>\n",
       "  </tbody>\n",
       "</table>\n",
       "</div>"
      ],
      "text/plain": [
       "                                  $\\alpha =$ 0.01  $\\alpha =$ 0.05  \\\n",
       "Граница доверительного интервала                                     \n",
       "Нижняя граница                           7.332595         7.720132   \n",
       "Верхняя граница                         11.627525        10.961915   \n",
       "\n",
       "                                  $\\alpha =$ 0.1  \n",
       "Граница доверительного интервала                  \n",
       "Нижняя граница                          7.929094  \n",
       "Верхняя граница                        10.640781  "
      ]
     },
     "execution_count": 108,
     "metadata": {},
     "output_type": "execute_result"
    }
   ],
   "source": [
    "intervals = pd.DataFrame(\n",
    "    index=pd.Index(\n",
    "        [\"Нижняя граница\", \"Верхняя граница\"], name=\"Граница доверительного интервала\"\n",
    "    )\n",
    ")\n",
    "alphas = [0.01, 0.05, 0.1]\n",
    "for alpha in alphas:\n",
    "    chi2_upper, chi2_lower = stats.chi2.interval(1 - alpha, df=n - 1)\n",
    "    intervals[f\"$\\\\alpha =$ {alpha}\"] = [\n",
    "        (n - 1) * X.var(ddof=1) / chi2_lower,\n",
    "        (n - 1) * X.var(ddof=1) / chi2_upper,\n",
    "    ]\n",
    "intervals"
   ]
  },
  {
   "cell_type": "code",
   "execution_count": 109,
   "metadata": {},
   "outputs": [
    {
     "name": "stdout",
     "output_type": "stream",
     "text": [
      "| Граница доверительного интервала | $\\alpha =$ 0.01 | $\\alpha =$ 0.05 | $\\alpha =$ 0.1 |\n",
      "|---|---|---|---|\n",
      "| Нижняя граница | 7.33 | 7.72 | 7.93 |\n",
      "| Верхняя граница | 11.63 | 10.96 | 10.64 |\n",
      "\n"
     ]
    }
   ],
   "source": [
    "print(dataframe_to_markdown(intervals))"
   ]
  },
  {
   "cell_type": "markdown",
   "metadata": {},
   "source": [
    "| Граница доверительного интервала | $\\alpha =$ 0.01 | $\\alpha =$ 0.05 | $\\alpha =$ 0.1 |\n",
    "| -------------------------------- | --------------- | --------------- | -------------- |\n",
    "| Нижняя граница                   | 7.33            | 7.72            | 7.93           |\n",
    "| Верхняя граница                  | 11.63           | 10.96           | 10.64          |"
   ]
  },
  {
   "cell_type": "markdown",
   "metadata": {},
   "source": [
    "<a id=\"23\"></a>"
   ]
  },
  {
   "cell_type": "markdown",
   "metadata": {},
   "source": [
    "## 2.3 Доверительные интервалы для разности мат. ожиданий"
   ]
  },
  {
   "cell_type": "markdown",
   "metadata": {},
   "source": [
    "### Условие"
   ]
  },
  {
   "cell_type": "markdown",
   "metadata": {},
   "source": [
    "Анализируемый признак 1 – `B16` \n",
    "Анализируемый признак 2 – `B17` \n",
    "\n",
    "Объёмы выборок – $n_1 = n_2 = 252$\n",
    "\n",
    "Оцениваемый параметр – $m_1 - m_2$"
   ]
  },
  {
   "cell_type": "markdown",
   "metadata": {},
   "source": [
    "### Определения"
   ]
  },
  {
   "cell_type": "code",
   "execution_count": 110,
   "metadata": {},
   "outputs": [
    {
     "data": {
      "text/plain": [
       "(0    32.0\n",
       " 1    30.5\n",
       " 2    28.8\n",
       " 3    32.4\n",
       " 4    32.2\n",
       " Name: B16, dtype: float64,\n",
       " 0    27.4\n",
       " 1    28.9\n",
       " 2    25.2\n",
       " 3    29.4\n",
       " 4    27.7\n",
       " Name: B17, dtype: float64)"
      ]
     },
     "execution_count": 110,
     "metadata": {},
     "output_type": "execute_result"
    }
   ],
   "source": [
    "X1, X2 = data(\"2.3\")\n",
    "X1.head(), X2.head()"
   ]
  },
  {
   "cell_type": "code",
   "execution_count": 111,
   "metadata": {},
   "outputs": [
    {
     "name": "stdout",
     "output_type": "stream",
     "text": [
      "252 252\n"
     ]
    }
   ],
   "source": [
    "print(n1 := len(X1), n2 := len(X2))"
   ]
  },
  {
   "cell_type": "markdown",
   "metadata": {},
   "source": [
    "### Привести формулы расчёта доверительных интервалов"
   ]
  },
  {
   "cell_type": "markdown",
   "metadata": {},
   "source": [
    "| Граница доверительного интервала | Формула расчёта                                                                                                                                                 |\n",
    "| -------------------------------- | --------------------------------------------------------------------------------------------------------------------------------------------------------------- |\n",
    "| Нижняя граница                   | $\\left(\\overline{\\mathbf{X_1}} - \\overline{\\mathbf{X_2}}\\right) - t_{1-\\frac{\\alpha}{2}, (n_1 + n_2 -2)} \\cdot S \\cdot \\sqrt{\\dfrac{1}{n_1} + \\dfrac{1}{n_2}} $ |\n",
    "| Верхняя граница                  | $\\left(\\overline{\\mathbf{X_1}} - \\overline{\\mathbf{X_2}}\\right) + t_{1-\\frac{\\alpha}{2}, (n_1 + n_2 -2)} \\cdot S \\cdot \\sqrt{\\dfrac{1}{n_1} + \\dfrac{1}{n_2}} $ |\n",
    "| $S$                              | $\\sqrt{\\dfrac{(n_1 - 1)S_1^2 + (n_2-1) S_2^2}{n_1 + n_2 -2}}  $                                                                                                 |\n"
   ]
  },
  {
   "cell_type": "markdown",
   "metadata": {},
   "source": [
    "### Рассчет доверительных интервалов"
   ]
  },
  {
   "cell_type": "code",
   "execution_count": 112,
   "metadata": {},
   "outputs": [
    {
     "data": {
      "text/html": [
       "<div>\n",
       "<style scoped>\n",
       "    .dataframe tbody tr th:only-of-type {\n",
       "        vertical-align: middle;\n",
       "    }\n",
       "\n",
       "    .dataframe tbody tr th {\n",
       "        vertical-align: top;\n",
       "    }\n",
       "\n",
       "    .dataframe thead th {\n",
       "        text-align: right;\n",
       "    }\n",
       "</style>\n",
       "<table border=\"1\" class=\"dataframe\">\n",
       "  <thead>\n",
       "    <tr style=\"text-align: right;\">\n",
       "      <th></th>\n",
       "      <th>$\\alpha =$ 0.01</th>\n",
       "      <th>$\\alpha =$ 0.05</th>\n",
       "      <th>$\\alpha =$ 0.1</th>\n",
       "    </tr>\n",
       "    <tr>\n",
       "      <th>Граница доверительного интервала</th>\n",
       "      <th></th>\n",
       "      <th></th>\n",
       "      <th></th>\n",
       "    </tr>\n",
       "  </thead>\n",
       "  <tbody>\n",
       "    <tr>\n",
       "      <th>Нижняя граница</th>\n",
       "      <td>3.017494</td>\n",
       "      <td>3.159673</td>\n",
       "      <td>3.232211</td>\n",
       "    </tr>\n",
       "    <tr>\n",
       "      <th>Верхняя граница</th>\n",
       "      <td>4.201553</td>\n",
       "      <td>4.059375</td>\n",
       "      <td>3.986837</td>\n",
       "    </tr>\n",
       "  </tbody>\n",
       "</table>\n",
       "</div>"
      ],
      "text/plain": [
       "                                  $\\alpha =$ 0.01  $\\alpha =$ 0.05  \\\n",
       "Граница доверительного интервала                                     \n",
       "Нижняя граница                           3.017494         3.159673   \n",
       "Верхняя граница                          4.201553         4.059375   \n",
       "\n",
       "                                  $\\alpha =$ 0.1  \n",
       "Граница доверительного интервала                  \n",
       "Нижняя граница                          3.232211  \n",
       "Верхняя граница                         3.986837  "
      ]
     },
     "execution_count": 112,
     "metadata": {},
     "output_type": "execute_result"
    }
   ],
   "source": [
    "intervals = pd.DataFrame(\n",
    "    index=pd.Index(\n",
    "        [\"Нижняя граница\", \"Верхняя граница\"], name=\"Граница доверительного интервала\"\n",
    "    )\n",
    ")\n",
    "alphas = [0.01, 0.05, 0.1]\n",
    "std_err = m.sqrt(\n",
    "    ((n1 - 1) * X1.var(ddof=1) + (n2 - 1) * X2.var(ddof=1))\n",
    "    / (n1 + n2 - 2)\n",
    "    * (1 / n1 + 1 / n2)\n",
    ")\n",
    "for alpha in alphas:\n",
    "    intervals[f\"$\\\\alpha =$ {alpha}\"] = stats.t.interval(\n",
    "        1 - alpha, df=n1 + n2 - 2, loc=X1.mean() - X2.mean(), scale=std_err\n",
    "    )\n",
    "intervals"
   ]
  },
  {
   "cell_type": "code",
   "execution_count": 113,
   "metadata": {},
   "outputs": [
    {
     "name": "stdout",
     "output_type": "stream",
     "text": [
      "| Граница доверительного интервала | $\\alpha =$ 0.01 | $\\alpha =$ 0.05 | $\\alpha =$ 0.1 |\n",
      "|---|---|---|---|\n",
      "| Нижняя граница | 3.02 | 3.16 | 3.23 |\n",
      "| Верхняя граница | 4.2 | 4.06 | 3.99 |\n",
      "\n"
     ]
    }
   ],
   "source": [
    "print(dataframe_to_markdown(intervals))"
   ]
  },
  {
   "cell_type": "markdown",
   "metadata": {},
   "source": [
    "| Граница доверительного интервала | $\\alpha =$ 0.01 | $\\alpha =$ 0.05 | $\\alpha =$ 0.1 |\n",
    "| -------------------------------- | --------------- | --------------- | -------------- |\n",
    "| Нижняя граница                   | 3.02            | 3.16            | 3.23           |\n",
    "| Верхняя граница                  | 4.2             | 4.06            | 3.99           |"
   ]
  },
  {
   "cell_type": "markdown",
   "metadata": {},
   "source": [
    "<a id=\"24\"></a>"
   ]
  },
  {
   "cell_type": "markdown",
   "metadata": {},
   "source": [
    "## 2.4. Доверительные интервалы для отношения дисперсий"
   ]
  },
  {
   "cell_type": "markdown",
   "metadata": {},
   "source": [
    "### Условие"
   ]
  },
  {
   "cell_type": "markdown",
   "metadata": {},
   "source": [
    "Анализируемый признак 1 – `B11` (Abdomen circumference (cm))\n",
    "\n",
    "Анализируемый признак 2 – `B12` (Hip circumference (cm))\n",
    "\n",
    "Объёмы выборок – $n_1 = n_2 = 252$\n",
    "\n",
    "Оцениваемый параметр – $\\dfrac{\\sigma_1^2}{\\sigma_2^2}$\n"
   ]
  },
  {
   "cell_type": "markdown",
   "metadata": {},
   "source": [
    "### Определения"
   ]
  },
  {
   "cell_type": "code",
   "execution_count": 114,
   "metadata": {},
   "outputs": [
    {
     "data": {
      "text/plain": [
       "(0    32.0\n",
       " 1    30.5\n",
       " 2    28.8\n",
       " 3    32.4\n",
       " 4    32.2\n",
       " Name: B16, dtype: float64,\n",
       " 0    27.4\n",
       " 1    28.9\n",
       " 2    25.2\n",
       " 3    29.4\n",
       " 4    27.7\n",
       " Name: B17, dtype: float64)"
      ]
     },
     "execution_count": 114,
     "metadata": {},
     "output_type": "execute_result"
    }
   ],
   "source": [
    "X1, X2 = data(\"2.4\")\n",
    "X1.head(), X2.head()"
   ]
  },
  {
   "cell_type": "code",
   "execution_count": 115,
   "metadata": {},
   "outputs": [
    {
     "name": "stdout",
     "output_type": "stream",
     "text": [
      "252 252\n"
     ]
    }
   ],
   "source": [
    "print(n1 := len(X1), n2 := len(X2))"
   ]
  },
  {
   "cell_type": "markdown",
   "metadata": {},
   "source": [
    "### Привести формулы расчёта доверительных интервалов"
   ]
  },
  {
   "cell_type": "markdown",
   "metadata": {},
   "source": [
    "| Граница доверительного интервала | Формула расчёта                                                       |\n",
    "| -------------------------------- | --------------------------------------------------------------------- |\n",
    "| Нижняя граница                   | $\\dfrac{S_1^2}{S_2^2} \\cdot F_{\\frac{\\alpha}{2}, (n_1-1, n_2-1)}$     |\n",
    "| Верхняя граница                  | $\\dfrac{S_1^2}{S_2^2} \\cdot F_{1 - \\frac{\\alpha}{2}, (n_1-1, n_2-1)}$ |"
   ]
  },
  {
   "cell_type": "markdown",
   "metadata": {},
   "source": [
    "### Рассчитать доверительные интервалы"
   ]
  },
  {
   "cell_type": "code",
   "execution_count": 116,
   "metadata": {},
   "outputs": [
    {
     "data": {
      "text/html": [
       "<div>\n",
       "<style scoped>\n",
       "    .dataframe tbody tr th:only-of-type {\n",
       "        vertical-align: middle;\n",
       "    }\n",
       "\n",
       "    .dataframe tbody tr th {\n",
       "        vertical-align: top;\n",
       "    }\n",
       "\n",
       "    .dataframe thead th {\n",
       "        text-align: right;\n",
       "    }\n",
       "</style>\n",
       "<table border=\"1\" class=\"dataframe\">\n",
       "  <thead>\n",
       "    <tr style=\"text-align: right;\">\n",
       "      <th></th>\n",
       "      <th>$\\alpha =$ 0.01</th>\n",
       "      <th>$\\alpha =$ 0.05</th>\n",
       "      <th>$\\alpha =$ 0.1</th>\n",
       "    </tr>\n",
       "    <tr>\n",
       "      <th>Граница доверительного интервала</th>\n",
       "      <th></th>\n",
       "      <th></th>\n",
       "      <th></th>\n",
       "    </tr>\n",
       "  </thead>\n",
       "  <tbody>\n",
       "    <tr>\n",
       "      <th>Нижняя граница</th>\n",
       "      <td>1.613274</td>\n",
       "      <td>1.744541</td>\n",
       "      <td>1.815643</td>\n",
       "    </tr>\n",
       "    <tr>\n",
       "      <th>Верхняя граница</th>\n",
       "      <td>3.097793</td>\n",
       "      <td>2.864702</td>\n",
       "      <td>2.752518</td>\n",
       "    </tr>\n",
       "  </tbody>\n",
       "</table>\n",
       "</div>"
      ],
      "text/plain": [
       "                                  $\\alpha =$ 0.01  $\\alpha =$ 0.05  \\\n",
       "Граница доверительного интервала                                     \n",
       "Нижняя граница                           1.613274         1.744541   \n",
       "Верхняя граница                          3.097793         2.864702   \n",
       "\n",
       "                                  $\\alpha =$ 0.1  \n",
       "Граница доверительного интервала                  \n",
       "Нижняя граница                          1.815643  \n",
       "Верхняя граница                         2.752518  "
      ]
     },
     "execution_count": 116,
     "metadata": {},
     "output_type": "execute_result"
    }
   ],
   "source": [
    "intervals = pd.DataFrame(\n",
    "    index=pd.Index(\n",
    "        [\"Нижняя граница\", \"Верхняя граница\"], name=\"Граница доверительного интервала\"\n",
    "    )\n",
    ")\n",
    "alphas = [0.01, 0.05, 0.1]\n",
    "for alpha in alphas:\n",
    "    intervals[f\"$\\\\alpha =$ {alpha}\"] = stats.f.interval(\n",
    "        1 - alpha, dfn=n1 - 1, dfd=n2 - 1, loc=0, scale=X1.var(ddof=1) / X2.var(ddof=1)\n",
    "    )\n",
    "intervals"
   ]
  },
  {
   "cell_type": "code",
   "execution_count": 117,
   "metadata": {},
   "outputs": [
    {
     "name": "stdout",
     "output_type": "stream",
     "text": [
      "| Граница доверительного интервала | $\\alpha =$ 0.01 | $\\alpha =$ 0.05 | $\\alpha =$ 0.1 |\n",
      "|---|---|---|---|\n",
      "| Нижняя граница | 1.61 | 1.74 | 1.82 |\n",
      "| Верхняя граница | 3.1 | 2.86 | 2.75 |\n",
      "\n"
     ]
    }
   ],
   "source": [
    "print(dataframe_to_markdown(intervals))"
   ]
  },
  {
   "cell_type": "markdown",
   "metadata": {},
   "source": [
    "| Граница доверительного интервала | $\\alpha =$ 0.01 | $\\alpha =$ 0.05 | $\\alpha =$ 0.1 |\n",
    "| -------------------------------- | --------------- | --------------- | -------------- |\n",
    "| Нижняя граница                   | 1.61            | 1.74            | 1.82           |\n",
    "| Верхняя граница                  | 3.1            | 2.86             | 2.75           |"
   ]
  },
  {
   "cell_type": "markdown",
   "metadata": {},
   "source": [
    "<a id=\"3\"></a>"
   ]
  }
 ],
 "metadata": {
  "kernelspec": {
   "display_name": ".venv",
   "language": "python",
   "name": "python3"
  },
  "language_info": {
   "codemirror_mode": {
    "name": "ipython",
    "version": 3
   },
   "file_extension": ".py",
   "mimetype": "text/x-python",
   "name": "python",
   "nbconvert_exporter": "python",
   "pygments_lexer": "ipython3",
   "version": "3.11.9"
  }
 },
 "nbformat": 4,
 "nbformat_minor": 2
}
