{
 "cells": [
  {
   "cell_type": "markdown",
   "metadata": {},
   "source": [
    "# Лабораторная работа №1."
   ]
  },
  {
   "cell_type": "markdown",
   "metadata": {},
   "source": [
    "## Условие\n",
    "\n",
    "Вариант №14.\n",
    "\n",
    "Распределения: \n",
    "\n",
    "$$\\mathbf{X_1} \\sim R(0, 10)$$\n",
    "\n",
    "$$\\mathbf{X_2} \\sim N(5, 3)$$\n",
    "\n",
    "Объёмы выборок:\n",
    "\n",
    "$$ n_1 = 200$$\n",
    "\n",
    "$$ n_2 = 250 $$\n",
    "\n",
    "\n",
    "Статистическая гипотеза $H_0$:\n",
    "\n",
    "$$m_1 = 5 \\ (\\sigma_1\\text{ -не известна})$$"
   ]
  },
  {
   "cell_type": "markdown",
   "metadata": {},
   "source": [
    "## Импорты"
   ]
  },
  {
   "cell_type": "code",
   "execution_count": 79,
   "metadata": {},
   "outputs": [],
   "source": [
    "from scipy import stats # функции из мат статистики \n",
    "import numpy as np  \n",
    "from math import sqrt \n",
    "\n",
    "\n",
    "from time import time # для времени \n",
    "from IPython.display import display, Math, Markdown  # для вывода формул\n",
    "import matplotlib.pyplot as plt # для графиков"
   ]
  },
  {
   "cell_type": "markdown",
   "metadata": {},
   "source": [
    "##  Данные"
   ]
  },
  {
   "cell_type": "code",
   "execution_count": 7,
   "metadata": {},
   "outputs": [],
   "source": [
    "a1, b1, n1 = 0, 10, 200\n",
    "m, sig, n2 = 5, 3, 250"
   ]
  },
  {
   "cell_type": "code",
   "execution_count": 13,
   "metadata": {},
   "outputs": [],
   "source": [
    "def printf(*strings):\n",
    "    for s in strings:\n",
    "        display(Markdown(s))\n",
    "\n",
    "# для латех вывода\n",
    "np.random.seed(int(time()))\n",
    "plt.rc(\"text\", usetex=True)\n",
    "plt.rc(\n",
    "    \"text.latex\",\n",
    "    preamble=r\"\"\"\n",
    "\\usepackage[english, russian]{babel}\n",
    "\\usepackage[utf8]{inputenc}\n",
    "\"\"\",\n",
    ")\n",
    "plt.style.use(\"seaborn-v0_8\")"
   ]
  },
  {
   "cell_type": "markdown",
   "metadata": {
    "tags": [
     "sometag"
    ]
   },
   "source": [
    "## 1. Исходные данные\n",
    "\n",
    "| СВ             | Распределение | Параметры          | Математическое ожидание, $m_i$   | Дисперсия, $\\sigma_i^2$                                 |\n",
    "| -------------- | ------------- | ------------------ | -------------------------------- | ------------------------------------------------------- |\n",
    "| $\\mathbf{X_1}$ | $R(0, 10)$    | $a_1 = 0, b_1 = 10$ | $m_1 = \\dfrac{a_1 + b_1}{2} = 5$ | $\\sigma_1^2 = \\dfrac{(b_1 - a_1)^2}{12} = \\dfrac{25}{12}$ |\n",
    "| $\\mathbf{X_2}$ | $N(5,3)$     |$m_2 = 5$, $\\sigma_2 = 3$      | $m_2 = 5$ | $\\sigma_2^2 = 9$ |\n"
   ]
  },
  {
   "cell_type": "code",
   "execution_count": 12,
   "metadata": {},
   "outputs": [
    {
     "data": {
      "text/markdown": [
       "$\\mathbf{X1}$: [3.35 2.57 5.36 9.28 7.71 4.53 9.42 3.83 7.96 2.2 ]"
      ],
      "text/plain": [
       "<IPython.core.display.Markdown object>"
      ]
     },
     "metadata": {},
     "output_type": "display_data"
    },
    {
     "data": {
      "text/markdown": [
       "$\\mathbf{X2}$: [ 6.03  1.04  2.03  5.75  9.08  6.68  5.48  7.95 11.42  7.68]"
      ],
      "text/plain": [
       "<IPython.core.display.Markdown object>"
      ]
     },
     "metadata": {},
     "output_type": "display_data"
    }
   ],
   "source": [
    "X1 = np.random.uniform(a1, b1, n1)\n",
    "X2 = np.random.normal(loc = m,scale=sig,size=n2)\n",
    "\n",
    "printf(f\"$\\\\mathbf{{X1}}$: {X1[:10].round(2)}\")\n",
    "printf(f\"$\\\\mathbf{{X2}}$: {X2[:10].round(2)}\")"
   ]
  },
  {
   "cell_type": "markdown",
   "metadata": {},
   "source": [
    "### Выборочные характеристики"
   ]
  },
  {
   "cell_type": "markdown",
   "metadata": {},
   "source": [
    "Мы имеем выборку, нам нужно рассчитать **несмещенную** оценку с.к.о. и дисперсии, поэтому применяем формулы:\n",
    "\n",
    "$$ s_{1} = \\sqrt{\\dfrac{1}{n - 1} \\sum\\limits_{i = 1}^{n} (x_i - \\overline{x})^2} $$\n",
    "$$ s^2_{1} = \\dfrac{1}{n - 1} \\sum\\limits_{i = 1}^{n} (x_i - \\overline{x})^2 $$\n",
    "\n",
    "$$ s_{2} = \\sqrt{\\dfrac{1}{n - 1} \\sum\\limits_{i = 1}^{n} (x_i - \\overline{x})^2} $$\n",
    "$$ s^2_{2} = \\dfrac{1}{n - 1} \\sum\\limits_{i = 1}^{n} (x_i - \\overline{x})^2 $$\n",
    "\n",
    "Множитель $\\dfrac{1}{n - a}$  в `numpy` достигается передачей параметра `ddof=a`, в данном случае `ddof=1`. "
   ]
  },
  {
   "cell_type": "code",
   "execution_count": 77,
   "metadata": {},
   "outputs": [
    {
     "data": {
      "text/markdown": [
       "$\\overline{x_1} =$ 4.83, $s_1^2 =$ 9.03, $s_1$ = 3.00, $n_1 =$ 200"
      ],
      "text/plain": [
       "<IPython.core.display.Markdown object>"
      ]
     },
     "metadata": {},
     "output_type": "display_data"
    },
    {
     "data": {
      "text/markdown": [
       "$\\overline{x_2} =$ 5.06, $s_2^2 =$ 1.10, $s_2$ = 9.04, $n_2 =$ 250"
      ],
      "text/plain": [
       "<IPython.core.display.Markdown object>"
      ]
     },
     "metadata": {},
     "output_type": "display_data"
    },
    {
     "data": {
      "text/markdown": [
       "$\\overline{x_{pooled}} =$ 4.96, $s_{pooled}^2 =$ 9.03, $s_{pooled}$ = 3.00, $n_{pooled} =$ 450"
      ],
      "text/plain": [
       "<IPython.core.display.Markdown object>"
      ]
     },
     "metadata": {},
     "output_type": "display_data"
    }
   ],
   "source": [
    "mean1 = X1.mean()\n",
    "s1 = X1.std(ddof=1)\n",
    "S1 = X1.var(ddof=1)\n",
    "\n",
    "mean2 = X2.mean()\n",
    "s2 = X2.std(ddof=1)\n",
    "s2 = X2.var(ddof=1)\n",
    "\n",
    "X_pooled = np.concatenate((X1, X2)) #обьединенная выборка\n",
    "mean_pooled = X_pooled.mean()\n",
    "s_pooled = X_pooled.std(ddof=1)\n",
    "S_pooled = X_pooled.var(ddof=1)\n",
    "\n",
    "printf(\n",
    "    f\"$\\\\overline{{x_1}} =$ {mean1:.2f}, $s_1^2 =$ {S1:.2f}, $s_1$ = {s1:.2f}, $n_1 =$ {n1}\"\n",
    ")\n",
    "printf(\n",
    "    f\"$\\\\overline{{x_2}} =$ {mean2:.2f}, $s_2^2 =$ {S2:.2f}, $s_2$ = {s2:.2f}, $n_2 =$ {n2}\"\n",
    ")\n",
    "\n",
    "printf(\n",
    "    f\"$\\\\overline{{x_{{pooled}}}} =$ {mean_pooled:.2f}, $s_{{pooled}}^2 =$ {S_pooled:.2f}, $s_{{pooled}}$ = {s_pooled:.2f}, $n_{{pooled}} =$ {n1 + n2}\",\n",
    ")"
   ]
  },
  {
   "cell_type": "markdown",
   "metadata": {},
   "source": [
    "| СВ            | Среднее, $\\overline{x_i}$ | Оценка дисперсии, $s_i^2$ | Оценка с.к.о., $s_i$ | Объём выборки, $n_i$ |\n",
    "| ------------- | ------------------------- | ------------------------- | -------------------- | -------------------- |\n",
    "| $\\mathbf{X1}$ | 4.83                     | 9.03                      | 3.00                | 200                   |\n",
    "| $\\mathbf{X2}$ | 5.06                     | 1.10                      | 9.04                 | 250                   |\n",
    "| Pooled        | 4.96                      | 9.03                      | 3.00                 | 450                  |\n"
   ]
  },
  {
   "cell_type": "markdown",
   "metadata": {},
   "source": [
    "## 2. Однопараметрические критерии"
   ]
  },
  {
   "cell_type": "markdown",
   "metadata": {},
   "source": [
    "В предыдущих заданиях мы генерировали выборку по какому-то распределению. Далее мы будем работать над проверкой гипотез. Поэтому будем считать верной нулевую гепотезу \n",
    "\n",
    "Тогда ошибка может быть только 1-го рода: мы даём верную гипотезу, а потом проверяем ее."
   ]
  },
  {
   "cell_type": "code",
   "execution_count": 32,
   "metadata": {},
   "outputs": [],
   "source": [
    "m0 = 5\n",
    "alpha = 0.05\n",
    "std0 = 3\n",
    "\n",
    "\n",
    "def verdict(alpha, p_value):\n",
    "    if alpha > p_value:\n",
    "        return \"$H_0$ отклоняется\"\n",
    "    else:\n",
    "        return \"$H_0$ принимается\""
   ]
  },
  {
   "cell_type": "markdown",
   "metadata": {},
   "source": [
    "### z-test"
   ]
  },
  {
   "cell_type": "markdown",
   "metadata": {},
   "source": [
    "Используем, когда в H₀ проверяем среднее, а σ считается **известной**.\n",
    "Для X₂ ~ 𝓝(5, 3) берём σ = 3, нулевая гипотеза ставится истинной:\n",
    "\n",
    "H₀: μ = m₀ = 5.\n",
    "\n"
   ]
  },
  {
   "cell_type": "markdown",
   "metadata": {},
   "source": [
    "$$ Z = \\dfrac{\\overline{X} - m_0}{\\frac{\\sigma}{\\sqrt{n}}} $$"
   ]
  },
  {
   "cell_type": "markdown",
   "metadata": {},
   "source": [
    "Так как критическая область двусторонняя,потому что нас интересуют оба направления отклонения среднего от m0— как в сторону больше, так и меньше. При верной H0 статистика, то выражение для $p$ value примет вид:\n",
    "$$ p = 2\\min(F_Z(z_{выб} \\mid H_0), 1 - F_Z(z_{выб} \\mid H_0)) $$"
   ]
  },
  {
   "cell_type": "code",
   "execution_count": 22,
   "metadata": {},
   "outputs": [],
   "source": [
    "def ztest(X, value, std):\n",
    "    mean = X.mean()\n",
    "    n = len(X)\n",
    "    Z = (mean-value)/(std/sqrt(n))\n",
    "    \n",
    "    cdf = stats.norm.cdf(Z)\n",
    "    p_value = 2*min(cdf,1-cdf)\n",
    "    return Z,p_value\n",
    "    \n",
    "    "
   ]
  },
  {
   "cell_type": "markdown",
   "metadata": {},
   "source": [
    "В этом случае $H_0 = m_0 = 5$ - я  предположил, что математическое ожидание распределения по выборке действительно совпадает с математическим ожиданием равномерного распределения при таких параметрах "
   ]
  },
  {
   "cell_type": "code",
   "execution_count": 30,
   "metadata": {},
   "outputs": [
    {
     "data": {
      "text/markdown": [
       "### Z-test"
      ],
      "text/plain": [
       "<IPython.core.display.Markdown object>"
      ]
     },
     "metadata": {},
     "output_type": "display_data"
    },
    {
     "data": {
      "text/markdown": [
       "$H_0: m_1 = m_0 = 5$"
      ],
      "text/plain": [
       "<IPython.core.display.Markdown object>"
      ]
     },
     "metadata": {},
     "output_type": "display_data"
    },
    {
     "data": {
      "text/markdown": [
       "$z_{выб} =$ 0.78"
      ],
      "text/plain": [
       "<IPython.core.display.Markdown object>"
      ]
     },
     "metadata": {},
     "output_type": "display_data"
    },
    {
     "data": {
      "text/markdown": [
       "$p =$ 0.44"
      ],
      "text/plain": [
       "<IPython.core.display.Markdown object>"
      ]
     },
     "metadata": {},
     "output_type": "display_data"
    },
    {
     "data": {
      "text/markdown": [
       "$H_0$ принимается"
      ],
      "text/plain": [
       "<IPython.core.display.Markdown object>"
      ]
     },
     "metadata": {},
     "output_type": "display_data"
    }
   ],
   "source": [
    "z, p_value = ztest(X2, m0, std0)\n",
    "\n",
    "printf(\n",
    "    r\"### Z-test\",\n",
    "    f\"$H_0: m_1 = m_0 = {m0}$\",\n",
    "    f\"$z_{{выб}} =$ {z:.2f}\",\n",
    "    f\"$p =$ {p_value:.2f}\",\n",
    "    verdict(alpha, p_value)\n",
    ")"
   ]
  },
  {
   "cell_type": "markdown",
   "metadata": {},
   "source": [
    "### t-test"
   ]
  },
  {
   "cell_type": "markdown",
   "metadata": {},
   "source": [
    "**t-test (одновыборочный)**\n",
    "\n",
    "Используем, когда σ **неизвестна** (заменяем на s). Для X₁ ~ U(0,10):\n",
    "\n",
    "H₀: μ = m₀ = 5.\n",
    "\n",
    "Статистика:\n",
    "T = ( X̄ − m₀ ) / ( s / √n ),  при нормальности: T ~ t_{n−1}.\n",
    "\n",
    "Двусторонний p-value берётся из t-распределения (функция `stats.ttest_1samp`).\n"
   ]
  },
  {
   "cell_type": "code",
   "execution_count": 37,
   "metadata": {},
   "outputs": [
    {
     "data": {
      "text/markdown": [
       "### T-test"
      ],
      "text/plain": [
       "<IPython.core.display.Markdown object>"
      ]
     },
     "metadata": {},
     "output_type": "display_data"
    },
    {
     "data": {
      "text/markdown": [
       "$H_0: m = m_0 = 5$"
      ],
      "text/plain": [
       "<IPython.core.display.Markdown object>"
      ]
     },
     "metadata": {},
     "output_type": "display_data"
    },
    {
     "data": {
      "text/markdown": [
       "$z_{выб} =$ -0.79"
      ],
      "text/plain": [
       "<IPython.core.display.Markdown object>"
      ]
     },
     "metadata": {},
     "output_type": "display_data"
    },
    {
     "data": {
      "text/markdown": [
       "$p =$ 0.43"
      ],
      "text/plain": [
       "<IPython.core.display.Markdown object>"
      ]
     },
     "metadata": {},
     "output_type": "display_data"
    },
    {
     "data": {
      "text/markdown": [
       "$H_0$ принимается"
      ],
      "text/plain": [
       "<IPython.core.display.Markdown object>"
      ]
     },
     "metadata": {},
     "output_type": "display_data"
    }
   ],
   "source": [
    "t_stat, p_value = stats.ttest_1samp(X1, m0)\n",
    "\n",
    "printf(\n",
    "    r\"### T-test\",\n",
    "    f\"$H_0: m = m_0 = {m0}$\",\n",
    "    f\"$z_{{выб}} =$ {z:.2f}\",\n",
    "    f\"$p =$ {p_value:.2f}\",\n",
    "    verdict(alpha, p_value),\n",
    ")"
   ]
  },
  {
   "cell_type": "markdown",
   "metadata": {},
   "source": [
    "### $\\chi^2$-test ($m$ известно)"
   ]
  },
  {
   "cell_type": "markdown",
   "metadata": {},
   "source": [
    "Мы используем данную статистику критерия, когда основная гипотеза $H_0$ связана со значением $\\sigma$ распределения, из которого мы взяли выборку. При этом $m$ считается известной.\n",
    "\n",
    "\n",
    "\n",
    "$$ Z = \\dfrac{n \\cdot S_0^2}{\\sigma_0^2} $$\n",
    "\n",
    "$$ S_0^2 = \\frac{1}{n} \\cdot \\sum\\limits_{i=1}^{n} (X_i - m)^2 $$\n",
    "\n",
    "Так как критическая область двусторонняя($Z$ не сильно должно отличаться от $n$ при истинности $H_0$):\n",
    "$$ p = 2\\min(F_Z(z_{выб} \\mid H_0), 1 - F_Z(z_{выб} \\mid H_0)) $$"
   ]
  },
  {
   "cell_type": "code",
   "execution_count": 39,
   "metadata": {},
   "outputs": [],
   "source": [
    "def S_0(X, m): \n",
    "    return np.mean((X - m) ** 2)\n",
    "\n",
    "\n",
    "def chisquare(X, value, m):\n",
    "    n = len(X)\n",
    "    z = n * S_0(X, m) / value**2\n",
    "    cdf = stats.chi2.cdf(z, n)\n",
    "    p_value = 2 * min(cdf, 1 - cdf)\n",
    "    return z, p_value"
   ]
  },
  {
   "cell_type": "code",
   "execution_count": 44,
   "metadata": {},
   "outputs": [
    {
     "data": {
      "text/markdown": [
       "### $\\chi^2$-test ($m$ известно)"
      ],
      "text/plain": [
       "<IPython.core.display.Markdown object>"
      ]
     },
     "metadata": {},
     "output_type": "display_data"
    },
    {
     "data": {
      "text/markdown": [
       "$H_0: \\sigma = \\sigma_0 = 3.00$"
      ],
      "text/plain": [
       "<IPython.core.display.Markdown object>"
      ]
     },
     "metadata": {},
     "output_type": "display_data"
    },
    {
     "data": {
      "text/markdown": [
       "$z_{выб} =$ 250.24"
      ],
      "text/plain": [
       "<IPython.core.display.Markdown object>"
      ]
     },
     "metadata": {},
     "output_type": "display_data"
    },
    {
     "data": {
      "text/markdown": [
       "$p =$ 0.97"
      ],
      "text/plain": [
       "<IPython.core.display.Markdown object>"
      ]
     },
     "metadata": {},
     "output_type": "display_data"
    },
    {
     "data": {
      "text/markdown": [
       "$H_0$ принимается"
      ],
      "text/plain": [
       "<IPython.core.display.Markdown object>"
      ]
     },
     "metadata": {},
     "output_type": "display_data"
    }
   ],
   "source": [
    "z, p_value = chisquare(X2, std0, m0)\n",
    "printf(\n",
    "    r\"### $\\chi^2$-test ($m$ известно)\",\n",
    "    f\"$H_0: \\\\sigma = \\\\sigma_0 = {std0:.2f}$\",\n",
    "    f\"$z_{{выб}} =$ {z:.2f}\",\n",
    "    f\"$p =$ {p_value:.2f}\",\n",
    "    verdict(alpha, p_value)\n",
    ")"
   ]
  },
  {
   "cell_type": "markdown",
   "metadata": {},
   "source": [
    "### $\\chi^2$-test ($m$ неизвестно)"
   ]
  },
  {
   "cell_type": "markdown",
   "metadata": {},
   "source": [
    "Отличается от $\\chi^2$-test c известным $m$ тем, что считается выборочное значение $m$ под капотом. \n"
   ]
  },
  {
   "cell_type": "code",
   "execution_count": 46,
   "metadata": {},
   "outputs": [],
   "source": [
    "def chisquare(X, value):\n",
    "    n = len(X)\n",
    "    z = (n - 1) * X.var(ddof=1) / value**2\n",
    "    cdf = stats.chi2.cdf(z, n - 1)\n",
    "    p_value = 2 * min(cdf, 1 - cdf)\n",
    "    return z, p_value"
   ]
  },
  {
   "cell_type": "code",
   "execution_count": 48,
   "metadata": {},
   "outputs": [
    {
     "data": {
      "text/markdown": [
       "### $\\chi^2$-test ($m$ неизвестно)"
      ],
      "text/plain": [
       "<IPython.core.display.Markdown object>"
      ]
     },
     "metadata": {},
     "output_type": "display_data"
    },
    {
     "data": {
      "text/markdown": [
       "$H_0: \\sigma_1 = \\sigma_0 = 3.00$"
      ],
      "text/plain": [
       "<IPython.core.display.Markdown object>"
      ]
     },
     "metadata": {},
     "output_type": "display_data"
    },
    {
     "data": {
      "text/markdown": [
       "$z_{выб} =$ 250.15"
      ],
      "text/plain": [
       "<IPython.core.display.Markdown object>"
      ]
     },
     "metadata": {},
     "output_type": "display_data"
    },
    {
     "data": {
      "text/markdown": [
       "$p =$ 0.94"
      ],
      "text/plain": [
       "<IPython.core.display.Markdown object>"
      ]
     },
     "metadata": {},
     "output_type": "display_data"
    },
    {
     "data": {
      "text/markdown": [
       "$H_0$ принимается"
      ],
      "text/plain": [
       "<IPython.core.display.Markdown object>"
      ]
     },
     "metadata": {},
     "output_type": "display_data"
    }
   ],
   "source": [
    "z, p_value = chisquare(X2, std0)\n",
    "\n",
    "printf(\n",
    "    r\"### $\\chi^2$-test ($m$ неизвестно)\",\n",
    "    f\"$H_0: \\\\sigma_1 = \\\\sigma_0 = {std0:.2f}$\",\n",
    "    f\"$z_{{выб}} =$ {z:.2f}\",\n",
    "    f\"$p =$ {p_value:.2f}\",\n",
    "    verdict(alpha, p_value),\n",
    ")"
   ]
  },
  {
   "cell_type": "markdown",
   "metadata": {},
   "source": [
    "### Табличка"
   ]
  },
  {
   "cell_type": "markdown",
   "metadata": {},
   "source": [
    "| Тест                         | Статистическая гипотеза, $H_0$                 | Выборочное значение статистики критерия | p-value | Статистическое решение при $\\alpha = 0.05$ | Ошибка статистического решения |\n",
    "| ---------------------------- | ---------------------------------------------- | --------------------------------------- | ------- | ------------------------------------------ | ------------------------------ |\n",
    "| z-test                       | $m_1 = 5$($\\sigma$ известна)                   | 0.78                                   | 0.44    | $H_0$ принимается                          | Нет                            |\n",
    "| t-test                       | $m_1 = 5$($\\sigma$ неизвестна)                 | -0.79                                   | 0.43    | $H_0$ принимается                          | Нет                            |\n",
    "| $\\chi^2$-test ($m$ известно) | $\\sigma_1 = 3$ ($m$ известно) | 250.24                                   | 0.97    | $H_0$ принимается                          | Нет                            |\n",
    "| $\\chi^2$-test ($m$ неизвестно) | $\\sigma_1 = 3$ ($m$ неизвестно) | 250.15                                   | 0.94    | $H_0$ принимается                          | Нет                            |\n"
   ]
  },
  {
   "cell_type": "markdown",
   "metadata": {},
   "source": [
    "## 3. Двухвыборочные критерии"
   ]
  },
  {
   "cell_type": "markdown",
   "metadata": {},
   "source": [
    "### 2-sample t-test"
   ]
  },
  {
   "cell_type": "code",
   "execution_count": 62,
   "metadata": {},
   "outputs": [
    {
     "data": {
      "text/markdown": [
       "### 2-sample t-test"
      ],
      "text/plain": [
       "<IPython.core.display.Markdown object>"
      ]
     },
     "metadata": {},
     "output_type": "display_data"
    },
    {
     "data": {
      "text/markdown": [
       "$H_0: m_1 = m_2$"
      ],
      "text/plain": [
       "<IPython.core.display.Markdown object>"
      ]
     },
     "metadata": {},
     "output_type": "display_data"
    },
    {
     "data": {
      "text/markdown": [
       "$z_{выб} =$ -0.79"
      ],
      "text/plain": [
       "<IPython.core.display.Markdown object>"
      ]
     },
     "metadata": {},
     "output_type": "display_data"
    },
    {
     "data": {
      "text/markdown": [
       "$p =$ 0.43"
      ],
      "text/plain": [
       "<IPython.core.display.Markdown object>"
      ]
     },
     "metadata": {},
     "output_type": "display_data"
    },
    {
     "data": {
      "text/markdown": [
       "$H_0$ принимается"
      ],
      "text/plain": [
       "<IPython.core.display.Markdown object>"
      ]
     },
     "metadata": {},
     "output_type": "display_data"
    }
   ],
   "source": [
    "z, p_value = stats.ttest_ind(X1, X2)\n",
    "\n",
    "printf(\n",
    "    r\"### 2-sample t-test\",\n",
    "    f\"$H_0: m_1 = m_2$\",\n",
    "    f\"$z_{{выб}} =$ {z:.2f}\",\n",
    "    f\"$p =$ {p_value:.2f}\",\n",
    "    verdict(alpha, p_value)\n",
    ")"
   ]
  },
  {
   "cell_type": "markdown",
   "metadata": {},
   "source": [
    "### 2-sample F-test ($m$ известно)"
   ]
  },
  {
   "cell_type": "code",
   "execution_count": 60,
   "metadata": {},
   "outputs": [],
   "source": [
    "def Ftest(X1, X2, m1, m2):\n",
    "    n1 = len(X1)\n",
    "    n2 = len(X2)\n",
    "    z = S_0(X1, m1) / S_0(X2, m2)\n",
    "    cdf = stats.f.cdf(z, dfn=n1, dfd=n2)\n",
    "    p_value = 2 * min(cdf, 1 - cdf)\n",
    "    return z, p_value"
   ]
  },
  {
   "cell_type": "code",
   "execution_count": 61,
   "metadata": {},
   "outputs": [
    {
     "data": {
      "text/markdown": [
       "### 2-sample F-test ($m$ известно)"
      ],
      "text/plain": [
       "<IPython.core.display.Markdown object>"
      ]
     },
     "metadata": {},
     "output_type": "display_data"
    },
    {
     "data": {
      "text/markdown": [
       "$H_0: \\sigma_1 = \\sigma_2$"
      ],
      "text/plain": [
       "<IPython.core.display.Markdown object>"
      ]
     },
     "metadata": {},
     "output_type": "display_data"
    },
    {
     "data": {
      "text/markdown": [
       "$z_{выб} =$ 1.00"
      ],
      "text/plain": [
       "<IPython.core.display.Markdown object>"
      ]
     },
     "metadata": {},
     "output_type": "display_data"
    },
    {
     "data": {
      "text/markdown": [
       "$p =$ 1.00"
      ],
      "text/plain": [
       "<IPython.core.display.Markdown object>"
      ]
     },
     "metadata": {},
     "output_type": "display_data"
    },
    {
     "data": {
      "text/markdown": [
       "$H_0$ принимается"
      ],
      "text/plain": [
       "<IPython.core.display.Markdown object>"
      ]
     },
     "metadata": {},
     "output_type": "display_data"
    }
   ],
   "source": [
    "z, p_value = Ftest(X1, X2, m0, m0)\n",
    "\n",
    "printf(\n",
    "    r\"### 2-sample F-test ($m$ известно)\",\n",
    "    f\"$H_0: \\\\sigma_1 = \\\\sigma_2$\",\n",
    "    f\"$z_{{выб}} =$ {z:.2f}\",\n",
    "    f\"$p =$ {p_value:.2f}\",\n",
    "    verdict(alpha, p_value)\n",
    ")"
   ]
  },
  {
   "cell_type": "markdown",
   "metadata": {},
   "source": [
    "### 2-sample F-test ($m$ неизвестно)"
   ]
  },
  {
   "cell_type": "code",
   "execution_count": 58,
   "metadata": {},
   "outputs": [],
   "source": [
    "def Ftest(X1, X2):\n",
    "    n1 = len(X1)\n",
    "    n2 = len(X2)\n",
    "    z = X1.var(ddof=1) / X2.var(ddof=1)\n",
    "    cdf = stats.f.cdf(z, dfn=n1 - 1, dfd=n2 - 1)\n",
    "    p_value = 2 * min(cdf, 1 - cdf)\n",
    "    return z, p_value"
   ]
  },
  {
   "cell_type": "code",
   "execution_count": 59,
   "metadata": {},
   "outputs": [
    {
     "data": {
      "text/markdown": [
       "### 2-sample F-test ($m$ неизвестно)"
      ],
      "text/plain": [
       "<IPython.core.display.Markdown object>"
      ]
     },
     "metadata": {},
     "output_type": "display_data"
    },
    {
     "data": {
      "text/markdown": [
       "$H_0: \\sigma_1 = \\sigma_2$"
      ],
      "text/plain": [
       "<IPython.core.display.Markdown object>"
      ]
     },
     "metadata": {},
     "output_type": "display_data"
    },
    {
     "data": {
      "text/markdown": [
       "$z_{выб} =$ 1.00"
      ],
      "text/plain": [
       "<IPython.core.display.Markdown object>"
      ]
     },
     "metadata": {},
     "output_type": "display_data"
    },
    {
     "data": {
      "text/markdown": [
       "$p =$ 0.99"
      ],
      "text/plain": [
       "<IPython.core.display.Markdown object>"
      ]
     },
     "metadata": {},
     "output_type": "display_data"
    },
    {
     "data": {
      "text/markdown": [
       "$H_0$ принимается"
      ],
      "text/plain": [
       "<IPython.core.display.Markdown object>"
      ]
     },
     "metadata": {},
     "output_type": "display_data"
    }
   ],
   "source": [
    "z, p_value = Ftest(X1, X2)\n",
    "\n",
    "printf(\n",
    "    r\"### 2-sample F-test ($m$ неизвестно)\",\n",
    "    f\"$H_0: \\\\sigma_1 = \\\\sigma_2$\",\n",
    "    f\"$z_{{выб}} =$ {z:.2f}\",\n",
    "    f\"$p =$ {p_value:.2f}\",\n",
    "    verdict(alpha, p_value)\n",
    ")"
   ]
  },
  {
   "cell_type": "markdown",
   "metadata": {},
   "source": [
    "### Табличка"
   ]
  },
  {
   "cell_type": "markdown",
   "metadata": {},
   "source": [
    "| Тест                             | Статистическая гипотеза, $H_0$ | Выборочное значение статистики критерия | p-value | Статистическое решение при $\\alpha = 0.05$ | Ошибка статистического решения |\n",
    "| -------------------------------- | ------------------------------ | --------------------------------------- | ------- | ------------------------------------------ | ------------------------------ |\n",
    "| 2-sample t-test                  | $m_1 = m_2$                    | -0.79                                    | 0.43    | $H_0$ принимается                          | Нет                            |\n",
    "| 2-sample F-test ($m$ известно)   | $\\sigma_1 = \\sigma_2$          | 1.00                                    | 1.00    | $H_0$ принимается                          | Нет                            |\n",
    "| 2-sample F-test ($m$ неизвестно) | $\\sigma_1 = \\sigma_2$          | 1.00                                    | 0.99    | $H_0$ принимается                          | Нет                            |"
   ]
  },
  {
   "cell_type": "markdown",
   "metadata": {},
   "source": [
    "## 4. Исследование распределений статистик критерия"
   ]
  },
  {
   "cell_type": "markdown",
   "metadata": {},
   "source": [
    "Статистическая гипотеза $H_0$: $m_1 = 5 \\ (\\sigma_1\\text{ -не известна})$\n",
    "\n",
    "Формула расчёта статистики критерия $Z$: $Z = \\dfrac{\\overline{X} - m_0}{\\frac{\\sigma}{\\sqrt{n}}}$\n",
    "\n",
    "Формула расчёта статистики $P$-value: $p = 2\\min(F_Z(z_{выб} \\mid H_0), 1 - F_Z(z_{выб} \\mid H_0))$\n",
    "\n",
    "Число серий экспериментов $N = 1000$"
   ]
  },
  {
   "cell_type": "markdown",
   "metadata": {},
   "source": [
    "### Теоретические характеристики:"
   ]
  },
  {
   "cell_type": "markdown",
   "metadata": {},
   "source": [
    "| СВ           | Распределение в условиях $H_0$ | Параметры | Математическое ожидание | Дисперсия    | С.к.о |\n",
    "| ------------ | ------------------------------ | --------- | ----------------------- | ------------ | ----- |\n",
    "| $\\mathbf{Z}$ | N(0, 1)                        |           | 0                       | 1            | 1     |\n",
    "| $P$-value    | R(0, 1)                        |   a = 0, b = 1        | $\\frac{1}{2}$           | $\\frac{1}{12} \\sim 0.083$ | $\\frac{1}{\\sqrt{12}} \\sim 0.288 $ |\n"
   ]
  },
  {
   "cell_type": "markdown",
   "metadata": {},
   "source": [
    "### Выборочные характеристики"
   ]
  },
  {
   "cell_type": "code",
   "execution_count": 69,
   "metadata": {},
   "outputs": [
    {
     "data": {
      "text/markdown": [
       "$\\mathbf{Z}$: [-0.21 -0.07 -0.55 -0.2   0.91 -1.21  0.07  0.4   1.67 -0.36]"
      ],
      "text/plain": [
       "<IPython.core.display.Markdown object>"
      ]
     },
     "metadata": {},
     "output_type": "display_data"
    },
    {
     "data": {
      "text/markdown": [
       "$\\mathbf{P-value}$: [0.83 0.95 0.58 0.84 0.36 0.23 0.94 0.69 0.09 0.72]"
      ],
      "text/plain": [
       "<IPython.core.display.Markdown object>"
      ]
     },
     "metadata": {},
     "output_type": "display_data"
    }
   ],
   "source": [
    "N = 1000\n",
    "Z = np.empty(N)\n",
    "P = np.empty(N)\n",
    "for i in range(N):\n",
    "    X = np.random.uniform(a1, b1, n1)\n",
    "    z, p_value = ztest(X, m0, std0)\n",
    "    Z[i] = z\n",
    "    P[i] = p_value\n",
    "\n",
    "printf(f\"$\\\\mathbf{{Z}}$: {Z[:10].round(2)}\")\n",
    "printf(f\"$\\\\mathbf{{P-value}}$: {P[:10].round(2)}\")"
   ]
  },
  {
   "cell_type": "code",
   "execution_count": 78,
   "metadata": {},
   "outputs": [
    {
     "data": {
      "text/markdown": [
       "$\\overline{Z} =$ 0.01, $s_Z^2 =$ 0.93, $s_Z$ = 0.97"
      ],
      "text/plain": [
       "<IPython.core.display.Markdown object>"
      ]
     },
     "metadata": {},
     "output_type": "display_data"
    },
    {
     "data": {
      "text/markdown": [
       "$\\overline{P-value} =$ 0.51, $s_P^2 =$ 0.08, $s_P$ = 0.29"
      ],
      "text/plain": [
       "<IPython.core.display.Markdown object>"
      ]
     },
     "metadata": {},
     "output_type": "display_data"
    }
   ],
   "source": [
    "mean_z = Z.mean()\n",
    "sz = Z.std(ddof=1)\n",
    "Sz = Z.var(ddof=1)\n",
    "\n",
    "mean_p = P.mean()\n",
    "sp = P.std(ddof=1)\n",
    "Sp = P.var(ddof=1)\n",
    "\n",
    "printf(\n",
    "    f\"$\\\\overline{{Z}} =$ {mean_z:.2f}, $s_Z^2 =$ {Sz:.2f}, $s_Z$ = {sz:.2f}\"\n",
    ")\n",
    "printf(\n",
    "    f\"$\\\\overline{{P-value}} =$ {mean_p:.2f}, $s_P^2 =$ {Sp:.2f}, $s_P$ = {sp:.2f}\"\n",
    ")"
   ]
  },
  {
   "cell_type": "markdown",
   "metadata": {},
   "source": [
    "| СВ           | Среднее | Оценка дисперсии | Оценка с.к.о. |\n",
    "| ------------ | ------- | ---------------- | ------------- |\n",
    "| $\\mathbf{Z}$ | 0.01   | 0.93             | 0.97         |\n",
    "| $P$-value    | 0.51    | 0.08             | 0.29          |\n"
   ]
  },
  {
   "cell_type": "markdown",
   "metadata": {},
   "source": [
    "### Графики"
   ]
  },
  {
   "cell_type": "code",
   "execution_count": null,
   "metadata": {},
   "outputs": [
    {
     "data": {
      "image/png": "[encoded data removed]",
      "text/plain": [
       "<Figure size 800x550 with 1 Axes>"
      ]
     },
     "metadata": {},
     "output_type": "display_data"
    }
   ],
   "source": [
    "import matplotlib as mpl\n",
    "mpl.rcParams['text.usetex'] = False  \n",
    "\n",
    "X = np.linspace(-5, 5, 1000) # Точки по оси x для теоретической кривой N(0,1)\n",
    "standard = stats.norm(loc=0, scale=1)# Определяем стандартное нормальное распределение N(0,1)\n",
    "pdf = standard.pdf(X) # Теоретическая плотность N(0,1) в точках X\n",
    "\n",
    "plt.plot(X, pdf, lw=3) # Рисуем теоретическую кривую плотности N(0,1)\n",
    "\n",
    "# Рисуем гистограмму эмпирических значений Z (должен быть массив Z),\n",
    "# bins=30 — число столбиков; density=True — нормировка к плотности (площадь = 1)\n",
    "plt.hist(Z, bins=30, density=True)\n",
    "\n",
    "# Подписи осей (лучше писать H_0 как индекс: H_0)\n",
    "plt.ylabel(r\"$f_Z(z \\mid H0),\\ \\frac{n_i}{n}$\", fontsize=14)\n",
    "plt.xlabel(\"$z$\", fontsize=14)\n",
    "\n",
    "plt.show()"
   ]
  },
  {
   "cell_type": "code",
   "execution_count": 75,
   "metadata": {},
   "outputs": [
    {
     "data": {
      "image/png": "[encoded data removed]",
      "text/plain": [
       "<Figure size 800x550 with 1 Axes>"
      ]
     },
     "metadata": {},
     "output_type": "display_data"
    }
   ],
   "source": [
    "X = np.linspace(-0.5, 1.5, 1000)\n",
    "uniform = stats.uniform(loc=0, scale=1)\n",
    "pdf = uniform.pdf(X)\n",
    "\n",
    "plt.plot(X, pdf, lw=3)\n",
    "\n",
    "plt.hist(P, bins=20, density=True)\n",
    "\n",
    "plt.ylabel(r\"$f_P(p \\mid H0),\\ \\frac{n_i}{n}$\", fontsize=14)\n",
    "plt.xlabel(\"$p$\", fontsize=14)\n",
    "\n",
    "plt.show()"
   ]
  }
 ],
 "metadata": {
  "kernelspec": {
   "display_name": ".venv",
   "language": "python",
   "name": "python3"
  },
  "language_info": {
   "codemirror_mode": {
    "name": "ipython",
    "version": 3
   },
   "file_extension": ".py",
   "mimetype": "text/x-python",
   "name": "python",
   "nbconvert_exporter": "python",
   "pygments_lexer": "ipython3",
   "version": "3.11.9"
  }
 },
 "nbformat": 4,
 "nbformat_minor": 2
}
