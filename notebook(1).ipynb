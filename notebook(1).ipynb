{
 "cells": [
  {
   "cell_type": "markdown",
   "metadata": {},
   "source": [
    "# Вариант №14."
   ]
  },
  {
   "cell_type": "markdown",
   "metadata": {},
   "source": [
    "# Оглавление\n",
    "\n",
    "- [0. Импорты и определения](#0)\n",
    "- [1. Описательные статистики](#1)\n",
    "    - [1.1. Выборочные характеристики](#11)\n",
    "    - [1.2. Группировка и гистограммы частот](#12)\n",
    "- [2. Интервальные оценки](#2)\n",
    "    - [2.1. Доверительные интервалы для математического ожидания](#21)\n",
    "    - [2.2. Доверительные интервалы для дисперсии](#22)\n",
    "    - [2.3. Доверительные интервалы для разности математических ожиданий](#23)\n",
    "    - [2.4. Доверительные интервалы для отношения дисперсий](#24)\n"
   ]
  },
  {
   "cell_type": "code",
   "execution_count": null,
   "metadata": {},
   "outputs": [],
   "source": []
  },
  {
   "cell_type": "code",
   "execution_count": null,
   "metadata": {},
   "outputs": [],
   "source": []
  },
  {
   "cell_type": "code",
   "execution_count": null,
   "metadata": {},
   "outputs": [],
   "source": []
  },
  {
   "cell_type": "code",
   "execution_count": 25,
   "metadata": {},
   "outputs": [],
   "source": [
    "variant = 15"
   ]
  },
  {
   "cell_type": "markdown",
   "metadata": {},
   "source": [
    "<a id=\"0\"></a>"
   ]
  },
  {
   "cell_type": "markdown",
   "metadata": {},
   "source": [
    "# Импорты и определения"
   ]
  },
  {
   "cell_type": "markdown",
   "metadata": {},
   "source": [
    "### Библиотеки и их настройка"
   ]
  },
  {
   "cell_type": "code",
   "execution_count": 26,
   "metadata": {},
   "outputs": [],
   "source": [
    "import numpy as np\n",
    "import pandas as pd\n",
    "from scipy import stats\n",
    "import matplotlib.pyplot as plt\n",
    "import math as m\n",
    "import statsmodels.api as sm\n",
    "from IPython.display import display, Markdown  # для вывода формул в консоль\n",
    "from pathlib import Path\n"
   ]
  },
  {
   "cell_type": "code",
   "execution_count": 27,
   "metadata": {},
   "outputs": [],
   "source": [
    "def mprint(*strings):  # функция вывода маркдаун в консоль\n",
    "    for s in strings:\n",
    "        display(Markdown(s))\n",
    "\n",
    "\n",
    "def dataframe_to_markdown(df):\n",
    "    if df.index.name is None:\n",
    "        first_cell = \"Index\"\n",
    "    elif df.columns.name is None:\n",
    "        first_cell = df.index.name\n",
    "    else:\n",
    "        first_cell = df.index.name + \"\\\\\" + df.columns.name\n",
    "    markdown_table = \"| \" + first_cell + \" | \" + \" | \".join(df.columns) + \" |\\n\"\n",
    "    markdown_table += \"|---\" * (len(df.columns) + 1) + \"|\\n\"  # Учитываем индекс\n",
    "\n",
    "    for index, row in df.iterrows():\n",
    "        row_values = [str(round(val, 2) if type(val) != str else val) for val in row]\n",
    "        markdown_table += f\"| {index} | \" + \" | \".join(row_values) + \" |\\n\"\n",
    "\n",
    "    return markdown_table\n",
    "\n",
    "\n",
    "# можно выводить latex в надписях matplotlib\n",
    "plt.rc(\"text\", usetex=False)\n",
    "plt.rcParams[\"font.family\"] = \"DejaVu Sans\"\n",
    "plt.rc(\n",
    "    \"text.latex\",\n",
    "    preamble=r\"\"\"\n",
    "\\usepackage[english, russian]{babel}\n",
    "\\usepackage[utf8]{inputenc}\n",
    "\"\"\",\n",
    ")\n",
    "plt.style.use(\"seaborn-v0_8\")"
   ]
  },
  {
   "cell_type": "markdown",
   "metadata": {},
   "source": [
    "### Парсинг вариантов"
   ]
  },
  {
   "cell_type": "code",
   "execution_count": 28,
   "metadata": {},
   "outputs": [
    {
     "data": {
      "text/plain": [
       "'d:\\\\помощь\\\\.vscode'"
      ]
     },
     "execution_count": 28,
     "metadata": {},
     "output_type": "execute_result"
    }
   ],
   "source": [
    "%pwd"
   ]
  },
  {
   "cell_type": "code",
   "execution_count": null,
   "metadata": {},
   "outputs": [],
   "source": []
  },
  {
   "cell_type": "markdown",
   "metadata": {},
   "source": [
    "<a id=\"parse\"></a>"
   ]
  },
  {
   "cell_type": "code",
   "execution_count": 29,
   "metadata": {},
   "outputs": [],
   "source": [
    "path_to_vars = Path(\"C:/Users/79165/Downloads/gfggf/var_matstat_K5.xls\")\n",
    "path_to_data = Path(\"C:/Users/79165/Downloads/gfggf/data_matstat_K5.xls\")\n"
   ]
  },
  {
   "cell_type": "code",
   "execution_count": 30,
   "metadata": {},
   "outputs": [
    {
     "data": {
      "text/plain": [
       "1.1         C7 C9 C12\n",
       "1.2                С7\n",
       "2.1, 3.1           С7\n",
       "2.2, 3.2           С7\n",
       "2.3, 3.3      C13 C14\n",
       "Name: 15, dtype: object"
      ]
     },
     "execution_count": 30,
     "metadata": {},
     "output_type": "execute_result"
    }
   ],
   "source": [
    "# считываем столбики для варианта\n",
    "datas = pd.read_excel(path_to_vars, index_col=0).loc[variant]\n",
    "\n",
    "datas.head()"
   ]
  },
  {
   "cell_type": "code",
   "execution_count": 31,
   "metadata": {},
   "outputs": [
    {
     "name": "stdout",
     "output_type": "stream",
     "text": [
      "{'1.1': ['C7', 'C9', 'C12'], '1.2': ['C7'], '2.1': ['C7'], '3.1': ['C7'], '2.2': ['C7'], '3.2': ['C7'], '2.3': ['C13', 'C14'], '3.3': ['C13', 'C14'], '2.4': ['C13', 'C14'], '3.4': ['C13', 'C14'], '4': ['C7'], '5': ['C13', 'C14'], '6': ['C2', 'C3'], '7': ['C5', 'C13'], '8.1': ['C13', 'C14'], '8.2': ['C7', 'C9', 'C12'], '9.1': ['C6', 'C13'], '9.2': ['C6', 'C13'], '9.3': ['C6', 'C11', 'C13']}\n"
     ]
    }
   ],
   "source": [
    "# создаём словарик: задание -> список столбцов\n",
    "variant_dict = dict()\n",
    "for tasks in datas.index:\n",
    "    for task in tasks.split(\", \"):\n",
    "        variant_dict[task] = (\n",
    "            datas[tasks]\n",
    "            .replace(\"А\", \"A\")\n",
    "            .replace(\"В\", \"B\")\n",
    "            .replace(\"С\", \"C\")\n",
    "            .split(\" \")\n",
    "        )\n",
    "\n",
    "print(variant_dict)"
   ]
  },
  {
   "cell_type": "markdown",
   "metadata": {},
   "source": [
    "### Считываем информацию из excel"
   ]
  },
  {
   "cell_type": "code",
   "execution_count": 32,
   "metadata": {},
   "outputs": [
    {
     "data": {
      "text/plain": [
       "dict_keys(['description', 'A - aaup', 'B - bodyfat', 'C - plasma', 'D - homedat'])"
      ]
     },
     "execution_count": 32,
     "metadata": {},
     "output_type": "execute_result"
    }
   ],
   "source": [
    "dfs = pd.read_excel(path_to_data, sheet_name=None)\n",
    "dfs.keys()"
   ]
  },
  {
   "cell_type": "code",
   "execution_count": 33,
   "metadata": {},
   "outputs": [
    {
     "name": "stdout",
     "output_type": "stream",
     "text": [
      "{'A': 'A - aaup', 'B': 'B - bodyfat', 'C': 'C - plasma', 'D': 'D - homedat'}\n"
     ]
    }
   ],
   "source": [
    "# создаём словарик: буква -> название листа в excel\n",
    "sheet_dict = dict()\n",
    "for value in list(dfs.keys())[1:]:\n",
    "    key = value[0]\n",
    "    sheet_dict[key] = value\n",
    "print(sheet_dict)"
   ]
  },
  {
   "cell_type": "code",
   "execution_count": 34,
   "metadata": {},
   "outputs": [],
   "source": [
    "# функция: задание -> необходимые данные\n",
    "def data(task):\n",
    "    X = []\n",
    "    for data in variant_dict[task]:\n",
    "        sheet = data[0]\n",
    "        column = data\n",
    "        df = dfs[sheet_dict[sheet]][column]\n",
    "        X.append(df)\n",
    "    return X"
   ]
  },
  {
   "cell_type": "markdown",
   "metadata": {},
   "source": [
    "### Дополнительные функции"
   ]
  },
  {
   "cell_type": "code",
   "execution_count": 35,
   "metadata": {},
   "outputs": [],
   "source": [
    "def verdict(alpha, p_value):\n",
    "    if alpha > p_value:\n",
    "        return \"$H_0$ отклоняется\"\n",
    "    else:\n",
    "        return \"$H_0$ принимается\""
   ]
  },
  {
   "cell_type": "markdown",
   "metadata": {},
   "source": [
    "<a id=\"1\"></a>"
   ]
  },
  {
   "cell_type": "markdown",
   "metadata": {},
   "source": [
    "# Раздел 1. Описательные статистики"
   ]
  },
  {
   "cell_type": "markdown",
   "metadata": {},
   "source": [
    "<a id=\"11\"></a>"
   ]
  },
  {
   "cell_type": "markdown",
   "metadata": {},
   "source": [
    "## 1.1 Выборочные характеристики"
   ]
  },
  {
   "cell_type": "markdown",
   "metadata": {},
   "source": [
    "### Условие"
   ]
  },
  {
   "cell_type": "markdown",
   "metadata": {},
   "source": [
    "Анализируемый признак 1 – `B7` (Weight (lbs))\n",
    "\n",
    "Анализируемый признак 2 – `B8` (Height (inches))\n",
    "\n",
    "Анализируемый признак 3 – `B9` (Neck circumference (cm))"
   ]
  },
  {
   "cell_type": "markdown",
   "metadata": {},
   "source": [
    "### Определения"
   ]
  },
  {
   "cell_type": "code",
   "execution_count": 36,
   "metadata": {},
   "outputs": [
    {
     "name": "stdout",
     "output_type": "stream",
     "text": [
      "0    57.0\n",
      "1    50.1\n",
      "2    83.6\n",
      "3    97.5\n",
      "4    82.6\n",
      "Name: C7, dtype: float64\n",
      "0     0.0\n",
      "1     0.0\n",
      "2    14.1\n",
      "3     0.5\n",
      "4     0.0\n",
      "Name: C9, dtype: float64\n",
      "0     890\n",
      "1     451\n",
      "2     660\n",
      "3     864\n",
      "4    1209\n",
      "Name: C12, dtype: int64\n"
     ]
    }
   ],
   "source": [
    "columns = data(\"1.1\")\n",
    "for i in columns:\n",
    "    print(i.head())"
   ]
  },
  {
   "cell_type": "markdown",
   "metadata": {},
   "source": [
    "### Привести формулы расчёта выборочных характеристик"
   ]
  },
  {
   "cell_type": "markdown",
   "metadata": {},
   "source": [
    "| Выборочная характеристика                | Формула расчёта                                                                                                                                                                                                                                 |\n",
    "| ---------------------------------------- | ----------------------------------------------------------------------------------------------------------------------------------------------------------------------------------------------------------------------------------------------- |\n",
    "| Объём выборки                            | $n$                                                                                                                                                                                                                                             |\n",
    "| Среднее                                  | $\\overline x = \\dfrac{1}{n} \\sum\\limits_{i = 1}^{n} x_i$                                                                                                                                                                                        |\n",
    "| Выборочная дисперсия                     | $D_X^* = \\dfrac{1}{n} \\sum\\limits_{i = 1}^{n} \\left(x_i - \\overline x\\right)^2$                                                                                                                                                                 |\n",
    "| Выборочное среднеквадратичное отклонение | $\\sigma_X^* = \\sqrt{D_X^*} =\\sqrt{\\dfrac{1}{n} \\sum\\limits_{i = 1}^{n} \\left(x_i - \\overline x\\right)^2}$                                                                                                                                       |\n",
    "| Выборочный коэффициент асимметрии        | $\\gamma_X^* = \\dfrac{\\mu_{3,X}^*}{\\left(\\sigma_X^*\\right)^3} = \\dfrac{\\dfrac{1}{n} \\sum\\limits_{i = 1}^{n} \\left(x_i - \\overline x\\right)^3}{\\left(\\dfrac{1}{n} \\sum\\limits_{i = 1}^{n} \\left(x_i - \\overline x\\right)^2\\right)^{\\frac{3}{2}}}$ |\n",
    "| Выборочный эксцесс                       |      $\\varepsilon_X^* = \\dfrac{\\mu_{4,X}^*}{\\left(\\sigma_X^*\\right)^4} - 3 = \\dfrac{\\dfrac{1}{n} \\sum\\limits_{i = 1}^{n} \\left(x_i - \\overline x\\right)^4}{\\left(\\dfrac{1}{n} \\sum\\limits_{i = 1}^{n} \\left(x_i - \\overline x\\right)^2\\right)^2} - 3$                                                                                                                                                                                                                                           |\n"
   ]
  },
  {
   "cell_type": "markdown",
   "metadata": {},
   "source": [
    "### Рассчитать выборочные характеристики"
   ]
  },
  {
   "cell_type": "markdown",
   "metadata": {},
   "source": [
    "`pd.skew()` возвращает несмещенный выборочный коэффициент асимметрии, поэтому лучше использовать `stats.skew(bias=True)`, чтобы его получить.\n",
    "\n",
    "То же самое касается функции `kurtosis()`."
   ]
  },
  {
   "cell_type": "code",
   "execution_count": 37,
   "metadata": {},
   "outputs": [
    {
     "data": {
      "text/markdown": [
       "$\\mathbf{X_1}:$         $\\overline x_1 =$ 77.03;         $D^*_{X_1} =$ 1140.80;         $\\sigma^*_{X_1} =$ 33.78;         $\\gamma^*_{X_1} =$ 1.10;         $\\varepsilon^*_{X_1} =$ 1.96         "
      ],
      "text/plain": [
       "<IPython.core.display.Markdown object>"
      ]
     },
     "metadata": {},
     "output_type": "display_data"
    },
    {
     "data": {
      "text/markdown": [
       "$\\mathbf{X_2}:$         $\\overline x_2 =$ 3.28;         $D^*_{X_2} =$ 151.37;         $\\sigma^*_{X_2} =$ 12.30;         $\\gamma^*_{X_2} =$ 13.76;         $\\varepsilon^*_{X_2} =$ 217.82         "
      ],
      "text/plain": [
       "<IPython.core.display.Markdown object>"
      ]
     },
     "metadata": {},
     "output_type": "display_data"
    },
    {
     "data": {
      "text/markdown": [
       "$\\mathbf{X_3}:$         $\\overline x_3 =$ 832.71;         $D^*_{X_3} =$ 346159.14;         $\\sigma^*_{X_3} =$ 588.35;         $\\gamma^*_{X_3} =$ 4.45;         $\\varepsilon^*_{X_3} =$ 37.45         "
      ],
      "text/plain": [
       "<IPython.core.display.Markdown object>"
      ]
     },
     "metadata": {},
     "output_type": "display_data"
    }
   ],
   "source": [
    "for i, X in enumerate(columns, start=1):\n",
    "    mean_ = X.mean()\n",
    "    D = X.var(ddof=0)\n",
    "    d = X.std(ddof=0)\n",
    "    g = stats.skew(X, bias=True)\n",
    "    e = stats.kurtosis(X, bias=True)\n",
    "    output = f\"$\\\\mathbf{{X_{i}}}:$ \\\n",
    "        $\\\\overline x_{i} =$ {mean_:.2f}; \\\n",
    "        $D^*_{{X_{i}}} =$ {D:.2f}; \\\n",
    "        $\\\\sigma^*_{{X_{i}}} =$ {d:.2f}; \\\n",
    "        $\\\\gamma^*_{{X_{i}}} =$ {g:.2f}; \\\n",
    "        $\\\\varepsilon^*_{{X_{i}}} =$ {e:.2f} \\\n",
    "        \"\n",
    "    mprint(output)"
   ]
  },
  {
   "cell_type": "markdown",
   "metadata": {},
   "source": [
    "| Выборочная характеристика                | Признак 1 | Признак 2 | Признак 3 |\n",
    "| ---------------------------------------- | --------- | --------- | --------- |\n",
    "| Среднее                                  | 32.27    | 28.66   | 18.23     |\n",
    "| Выборочная дисперсия                     | 9.09     | 4.07    | 0.87      |\n",
    "| Выборочное среднеквадратичное отклонение | 3.02     | 2.02    | 0.93      |\n",
    "| Выборочный коэффициент асимметрии        | 0.28     | -0.22   | 0.28      |\n",
    "| Выборочный эксцесс                       | 0.46     |  0.83   | 0.36      |\n"
   ]
  },
  {
   "cell_type": "markdown",
   "metadata": {},
   "source": [
    "<a id=\"12\"></a>"
   ]
  },
  {
   "cell_type": "markdown",
   "metadata": {},
   "source": [
    "## 1.2 Группировка и гистограммы частот"
   ]
  },
  {
   "cell_type": "markdown",
   "metadata": {},
   "source": [
    "### Условие"
   ]
  },
  {
   "cell_type": "markdown",
   "metadata": {},
   "source": [
    "Анализируемый признак – `B7` (Weight (lbs))\n",
    "\n",
    "Объём выборки – $n$ = `252`"
   ]
  },
  {
   "cell_type": "markdown",
   "metadata": {},
   "source": [
    "### Определения"
   ]
  },
  {
   "cell_type": "code",
   "execution_count": 38,
   "metadata": {},
   "outputs": [
    {
     "data": {
      "text/plain": [
       "0       57.0\n",
       "1       50.1\n",
       "2       83.6\n",
       "3       97.5\n",
       "4       82.6\n",
       "       ...  \n",
       "310     98.2\n",
       "311     84.2\n",
       "312     44.8\n",
       "313    144.4\n",
       "314     77.4\n",
       "Name: C7, Length: 315, dtype: float64"
      ]
     },
     "execution_count": 38,
     "metadata": {},
     "output_type": "execute_result"
    }
   ],
   "source": [
    "X = data(\"1.2\")[0]\n",
    "X"
   ]
  },
  {
   "cell_type": "code",
   "execution_count": 39,
   "metadata": {},
   "outputs": [
    {
     "name": "stdout",
     "output_type": "stream",
     "text": [
      "315\n"
     ]
    }
   ],
   "source": [
    "print(n := len(X))"
   ]
  },
  {
   "cell_type": "code",
   "execution_count": 40,
   "metadata": {},
   "outputs": [
    {
     "data": {
      "text/html": [
       "<div>\n",
       "<style scoped>\n",
       "    .dataframe tbody tr th:only-of-type {\n",
       "        vertical-align: middle;\n",
       "    }\n",
       "\n",
       "    .dataframe tbody tr th {\n",
       "        vertical-align: top;\n",
       "    }\n",
       "\n",
       "    .dataframe thead th {\n",
       "        text-align: right;\n",
       "    }\n",
       "</style>\n",
       "<table border=\"1\" class=\"dataframe\">\n",
       "  <thead>\n",
       "    <tr style=\"text-align: right;\">\n",
       "      <th></th>\n",
       "      <th>value</th>\n",
       "    </tr>\n",
       "  </thead>\n",
       "  <tbody>\n",
       "    <tr>\n",
       "      <th>0</th>\n",
       "      <td>57.0</td>\n",
       "    </tr>\n",
       "    <tr>\n",
       "      <th>1</th>\n",
       "      <td>50.1</td>\n",
       "    </tr>\n",
       "    <tr>\n",
       "      <th>2</th>\n",
       "      <td>83.6</td>\n",
       "    </tr>\n",
       "    <tr>\n",
       "      <th>3</th>\n",
       "      <td>97.5</td>\n",
       "    </tr>\n",
       "    <tr>\n",
       "      <th>4</th>\n",
       "      <td>82.6</td>\n",
       "    </tr>\n",
       "  </tbody>\n",
       "</table>\n",
       "</div>"
      ],
      "text/plain": [
       "   value\n",
       "0   57.0\n",
       "1   50.1\n",
       "2   83.6\n",
       "3   97.5\n",
       "4   82.6"
      ]
     },
     "execution_count": 40,
     "metadata": {},
     "output_type": "execute_result"
    }
   ],
   "source": [
    "X = pd.DataFrame(X.values, columns=[\"value\"])\n",
    "X.head()"
   ]
  },
  {
   "cell_type": "markdown",
   "metadata": {},
   "source": [
    "### Выбрать число групп"
   ]
  },
  {
   "cell_type": "code",
   "execution_count": 41,
   "metadata": {},
   "outputs": [
    {
     "data": {
      "text/markdown": [
       "$\\mathbf{X}: \\max = 235.9, \\min = 14.4, n = 315, k = 8$"
      ],
      "text/plain": [
       "<IPython.core.display.Markdown object>"
      ]
     },
     "metadata": {},
     "output_type": "display_data"
    }
   ],
   "source": [
    "maximum = max(X[\"value\"])\n",
    "minimum = min(X[\"value\"])\n",
    "k = round(1 + 1.3 * m.log(n))\n",
    "mprint(f\"$\\\\mathbf{{X}}: \\\\max = {maximum}, \\\\min = {minimum}, n = {n}, k = {k}$\")"
   ]
  },
  {
   "cell_type": "code",
   "execution_count": 42,
   "metadata": {},
   "outputs": [
    {
     "data": {
      "text/html": [
       "<div>\n",
       "<style scoped>\n",
       "    .dataframe tbody tr th:only-of-type {\n",
       "        vertical-align: middle;\n",
       "    }\n",
       "\n",
       "    .dataframe tbody tr th {\n",
       "        vertical-align: top;\n",
       "    }\n",
       "\n",
       "    .dataframe thead th {\n",
       "        text-align: right;\n",
       "    }\n",
       "</style>\n",
       "<table border=\"1\" class=\"dataframe\">\n",
       "  <thead>\n",
       "    <tr style=\"text-align: right;\">\n",
       "      <th></th>\n",
       "      <th>value</th>\n",
       "      <th>group</th>\n",
       "    </tr>\n",
       "  </thead>\n",
       "  <tbody>\n",
       "    <tr>\n",
       "      <th>0</th>\n",
       "      <td>57.0</td>\n",
       "      <td>(42.088, 69.775]</td>\n",
       "    </tr>\n",
       "    <tr>\n",
       "      <th>1</th>\n",
       "      <td>50.1</td>\n",
       "      <td>(42.088, 69.775]</td>\n",
       "    </tr>\n",
       "    <tr>\n",
       "      <th>2</th>\n",
       "      <td>83.6</td>\n",
       "      <td>(69.775, 97.462]</td>\n",
       "    </tr>\n",
       "    <tr>\n",
       "      <th>3</th>\n",
       "      <td>97.5</td>\n",
       "      <td>(97.462, 125.15]</td>\n",
       "    </tr>\n",
       "    <tr>\n",
       "      <th>4</th>\n",
       "      <td>82.6</td>\n",
       "      <td>(69.775, 97.462]</td>\n",
       "    </tr>\n",
       "  </tbody>\n",
       "</table>\n",
       "</div>"
      ],
      "text/plain": [
       "   value             group\n",
       "0   57.0  (42.088, 69.775]\n",
       "1   50.1  (42.088, 69.775]\n",
       "2   83.6  (69.775, 97.462]\n",
       "3   97.5  (97.462, 125.15]\n",
       "4   82.6  (69.775, 97.462]"
      ]
     },
     "execution_count": 42,
     "metadata": {},
     "output_type": "execute_result"
    }
   ],
   "source": [
    "X[\"group\"] = pd.cut(X[\"value\"], bins=k)\n",
    "X.head()"
   ]
  },
  {
   "cell_type": "code",
   "execution_count": 43,
   "metadata": {},
   "outputs": [
    {
     "data": {
      "text/markdown": [
       "Ширина интервалов: от 27.69 до 27.91"
      ],
      "text/plain": [
       "<IPython.core.display.Markdown object>"
      ]
     },
     "metadata": {},
     "output_type": "display_data"
    }
   ],
   "source": [
    "delta_min = np.min(\n",
    "    [interval.right - interval.left for interval in X[\"group\"].cat.categories]\n",
    ")\n",
    "delta_max = np.max(\n",
    "    [interval.right - interval.left for interval in X[\"group\"].cat.categories]\n",
    ")\n",
    "mprint(f\"Ширина интервалов: от {delta_min:.2f} до {delta_max:.2f}\")"
   ]
  },
  {
   "cell_type": "markdown",
   "metadata": {},
   "source": [
    "| Число групп | Обоснование выбора числа групп                 | Ширина интервалов |\n",
    "| ----------- | ---------------------------------------------- | ----------------- |\n",
    "| 8           | Формула Стерджесса: $k \\approx 1 + 1,3 \\ln{n}$ | от 2.52 до 2.54   |\n"
   ]
  },
  {
   "cell_type": "markdown",
   "metadata": {},
   "source": [
    "### Построить таблицу частот"
   ]
  },
  {
   "cell_type": "code",
   "execution_count": 44,
   "metadata": {},
   "outputs": [
    {
     "data": {
      "text/html": [
       "<div>\n",
       "<style scoped>\n",
       "    .dataframe tbody tr th:only-of-type {\n",
       "        vertical-align: middle;\n",
       "    }\n",
       "\n",
       "    .dataframe tbody tr th {\n",
       "        vertical-align: top;\n",
       "    }\n",
       "\n",
       "    .dataframe thead th {\n",
       "        text-align: right;\n",
       "    }\n",
       "</style>\n",
       "<table border=\"1\" class=\"dataframe\">\n",
       "  <thead>\n",
       "    <tr style=\"text-align: right;\">\n",
       "      <th></th>\n",
       "      <th>low edge</th>\n",
       "      <th>high edge</th>\n",
       "      <th>frequency</th>\n",
       "      <th>relative frequency</th>\n",
       "      <th>cumulative frequency</th>\n",
       "      <th>cumulative relative frequency</th>\n",
       "    </tr>\n",
       "    <tr>\n",
       "      <th>Номер интервала</th>\n",
       "      <th></th>\n",
       "      <th></th>\n",
       "      <th></th>\n",
       "      <th></th>\n",
       "      <th></th>\n",
       "      <th></th>\n",
       "    </tr>\n",
       "  </thead>\n",
       "  <tbody>\n",
       "    <tr>\n",
       "      <th>1</th>\n",
       "      <td>14.178</td>\n",
       "      <td>42.088</td>\n",
       "      <td>36</td>\n",
       "      <td>0.114286</td>\n",
       "      <td>36</td>\n",
       "      <td>0.114286</td>\n",
       "    </tr>\n",
       "    <tr>\n",
       "      <th>2</th>\n",
       "      <td>42.088</td>\n",
       "      <td>69.775</td>\n",
       "      <td>111</td>\n",
       "      <td>0.352381</td>\n",
       "      <td>147</td>\n",
       "      <td>0.466667</td>\n",
       "    </tr>\n",
       "    <tr>\n",
       "      <th>3</th>\n",
       "      <td>69.775</td>\n",
       "      <td>97.462</td>\n",
       "      <td>95</td>\n",
       "      <td>0.301587</td>\n",
       "      <td>242</td>\n",
       "      <td>0.768254</td>\n",
       "    </tr>\n",
       "    <tr>\n",
       "      <th>4</th>\n",
       "      <td>97.462</td>\n",
       "      <td>125.150</td>\n",
       "      <td>47</td>\n",
       "      <td>0.149206</td>\n",
       "      <td>289</td>\n",
       "      <td>0.917460</td>\n",
       "    </tr>\n",
       "    <tr>\n",
       "      <th>5</th>\n",
       "      <td>125.150</td>\n",
       "      <td>152.838</td>\n",
       "      <td>15</td>\n",
       "      <td>0.047619</td>\n",
       "      <td>304</td>\n",
       "      <td>0.965079</td>\n",
       "    </tr>\n",
       "    <tr>\n",
       "      <th>6</th>\n",
       "      <td>152.838</td>\n",
       "      <td>180.525</td>\n",
       "      <td>8</td>\n",
       "      <td>0.025397</td>\n",
       "      <td>312</td>\n",
       "      <td>0.990476</td>\n",
       "    </tr>\n",
       "    <tr>\n",
       "      <th>7</th>\n",
       "      <td>180.525</td>\n",
       "      <td>208.212</td>\n",
       "      <td>2</td>\n",
       "      <td>0.006349</td>\n",
       "      <td>314</td>\n",
       "      <td>0.996825</td>\n",
       "    </tr>\n",
       "    <tr>\n",
       "      <th>8</th>\n",
       "      <td>208.212</td>\n",
       "      <td>235.900</td>\n",
       "      <td>1</td>\n",
       "      <td>0.003175</td>\n",
       "      <td>315</td>\n",
       "      <td>1.000000</td>\n",
       "    </tr>\n",
       "  </tbody>\n",
       "</table>\n",
       "</div>"
      ],
      "text/plain": [
       "                 low edge  high edge  frequency  relative frequency  \\\n",
       "Номер интервала                                                       \n",
       "1                  14.178     42.088         36            0.114286   \n",
       "2                  42.088     69.775        111            0.352381   \n",
       "3                  69.775     97.462         95            0.301587   \n",
       "4                  97.462    125.150         47            0.149206   \n",
       "5                 125.150    152.838         15            0.047619   \n",
       "6                 152.838    180.525          8            0.025397   \n",
       "7                 180.525    208.212          2            0.006349   \n",
       "8                 208.212    235.900          1            0.003175   \n",
       "\n",
       "                 cumulative frequency  cumulative relative frequency  \n",
       "Номер интервала                                                       \n",
       "1                                  36                       0.114286  \n",
       "2                                 147                       0.466667  \n",
       "3                                 242                       0.768254  \n",
       "4                                 289                       0.917460  \n",
       "5                                 304                       0.965079  \n",
       "6                                 312                       0.990476  \n",
       "7                                 314                       0.996825  \n",
       "8                                 315                       1.000000  "
      ]
     },
     "execution_count": 44,
     "metadata": {},
     "output_type": "execute_result"
    }
   ],
   "source": [
    "groups = pd.DataFrame(index=pd.Index(range(1, k + 1), name=\"Номер интервала\"))\n",
    "groups[\"low edge\"] = [interval.left for interval in X[\"group\"].cat.categories]\n",
    "groups[\"high edge\"] = [interval.right for interval in X[\"group\"].cat.categories]\n",
    "groups[\"frequency\"] = X[\"group\"].value_counts().sort_index().values\n",
    "groups[\"relative frequency\"] = groups[\"frequency\"] / n\n",
    "groups[\"cumulative frequency\"] = groups[\"frequency\"].cumsum()\n",
    "groups[\"cumulative relative frequency\"] = groups[\"cumulative frequency\"] / n\n",
    "groups"
   ]
  },
  {
   "cell_type": "code",
   "execution_count": 45,
   "metadata": {},
   "outputs": [
    {
     "name": "stdout",
     "output_type": "stream",
     "text": [
      "| Номер интервала | low edge | high edge | frequency | relative frequency | cumulative frequency | cumulative relative frequency |\n",
      "|---|---|---|---|---|---|---|\n",
      "| 1 | 14.18 | 42.09 | 36.0 | 0.11 | 36.0 | 0.11 |\n",
      "| 2 | 42.09 | 69.78 | 111.0 | 0.35 | 147.0 | 0.47 |\n",
      "| 3 | 69.78 | 97.46 | 95.0 | 0.3 | 242.0 | 0.77 |\n",
      "| 4 | 97.46 | 125.15 | 47.0 | 0.15 | 289.0 | 0.92 |\n",
      "| 5 | 125.15 | 152.84 | 15.0 | 0.05 | 304.0 | 0.97 |\n",
      "| 6 | 152.84 | 180.53 | 8.0 | 0.03 | 312.0 | 0.99 |\n",
      "| 7 | 180.53 | 208.21 | 2.0 | 0.01 | 314.0 | 1.0 |\n",
      "| 8 | 208.21 | 235.9 | 1.0 | 0.0 | 315.0 | 1.0 |\n",
      "\n"
     ]
    }
   ],
   "source": [
    "# Чтобы быстрее заполнить табличку\n",
    "print(dataframe_to_markdown(groups))"
   ]
  },
  {
   "cell_type": "markdown",
   "metadata": {},
   "source": [
    "| Номер интервала | Нижняя граница | Верхняя граница | Частота | Относительная частота | Накопленная частота | Относительная накопленная частота |\n",
    "| --------------- | -------------- | --------------- | ------- | --------------------- | ------------------- | --------------------------------- |\n",
    "| 1               | 24.78        | 27.32          | 11.0      | 0.04                  | 11.0                | 0.04                             |\n",
    "| 2               | 27.32        | 29.85        | 41.0     | 0.16               | 52.0                | 0.21                              |\n",
    "| 3               | 29.85         | 32.38          | 81.0      | 0.32                   | 133.0                 | 0.52                              |\n",
    "| 4               | 32.38         | 34.9          | 66.0      | 0.26                  | 199.0                 | 0.79                              |\n",
    "| 5               | 34.9         | 37.42          | 44.0       | 0.17                  | 243.0                 | 0.96                              |\n",
    "| 6               | 37.42         | 39.95          | 8.0       | 0.03                   | 251.0                 | 1.0                              |\n",
    "| 7               | 39.95         | 42.48          | 0.0       | 0.0                   | 251.0                 | 1.00                              |\n",
    "| 8               | 42.48         | 45.0          | 1.0       | 0.0                   | 252.0                 | 1.00                              |"
   ]
  },
  {
   "cell_type": "markdown",
   "metadata": {},
   "source": [
    "### Построить гистограммы частот и полигоны частот"
   ]
  },
  {
   "cell_type": "code",
   "execution_count": 46,
   "metadata": {},
   "outputs": [],
   "source": [
    "bin_centers = (groups[\"low edge\"] + groups[\"high edge\"]) / 2\n",
    "width = groups[\"high edge\"] - groups[\"low edge\"]"
   ]
  },
  {
   "cell_type": "code",
   "execution_count": 47,
   "metadata": {},
   "outputs": [
    {
     "data": {
      "image/png": "[encoded data removed]",
      "text/plain": [
       "<Figure size 1000x600 with 4 Axes>"
      ]
     },
     "metadata": {},
     "output_type": "display_data"
    }
   ],
   "source": [
    "plt.rcParams.update({\"text.usetex\": False})\n",
    "plt.rcParams[\"font.family\"] = \"DejaVu Sans\"\n",
    "\n",
    "fig, axes = plt.subplots(2, 2, figsize=(10, 6))\n",
    "\n",
    "axes[0, 0].bar(\n",
    "    bin_centers,\n",
    "    groups[\"frequency\"],\n",
    "    width=width,\n",
    "    edgecolor=\"black\",\n",
    ")\n",
    "axes[0, 0].plot(bin_centers, groups[\"frequency\"], marker=\"o\", color=\"r\")\n",
    "axes[0, 0].set_xlabel(\"Значения\")\n",
    "axes[0, 0].set_ylabel(\"Частота\")\n",
    "axes[0, 0].set_title(\"Гистограмма и полигон частот\")\n",
    "\n",
    "axes[0, 1].bar(\n",
    "    bin_centers,\n",
    "    groups[\"relative frequency\"],\n",
    "    width=width,\n",
    "    edgecolor=\"black\",\n",
    ")\n",
    "axes[0, 1].plot(bin_centers, groups[\"relative frequency\"], marker=\"o\", color=\"r\")\n",
    "axes[0, 1].set_xlabel(\"Значения\")\n",
    "axes[0, 1].set_ylabel(\"Относительная частота\")\n",
    "axes[0, 1].set_title(\"Гистограмма и полигон относительных частот\")\n",
    "\n",
    "axes[1, 0].bar(\n",
    "    bin_centers,\n",
    "    groups[\"cumulative frequency\"],\n",
    "    width=width,\n",
    "    edgecolor=\"black\",\n",
    ")\n",
    "axes[1, 0].plot(bin_centers, groups[\"cumulative frequency\"], marker=\"o\", color=\"r\")\n",
    "axes[1, 0].set_xlabel(\"Значения\")\n",
    "axes[1, 0].set_ylabel(\"Накопленная частота частота\")\n",
    "axes[1, 0].set_title(\"Гистограмма и полигон накопленных частот\")\n",
    "\n",
    "axes[1, 1].bar(\n",
    "    bin_centers,\n",
    "    groups[\"cumulative relative frequency\"],\n",
    "    width=width,\n",
    "    edgecolor=\"black\",\n",
    ")\n",
    "axes[1, 1].plot(\n",
    "    bin_centers, groups[\"cumulative relative frequency\"], marker=\"o\", color=\"r\"\n",
    ")\n",
    "axes[1, 1].set_xlabel(\"Значения\")\n",
    "axes[1, 1].set_ylabel(\"Относительная накопленная частота частота\")\n",
    "axes[1, 1].set_title(\"Гистограмма и полигон относительных накопленных частот\")\n",
    "\n",
    "plt.tight_layout()\n",
    "plt.show()"
   ]
  },
  {
   "cell_type": "markdown",
   "metadata": {},
   "source": [
    "### Построить эмпирическую фукнцию распределения"
   ]
  },
  {
   "cell_type": "code",
   "execution_count": 48,
   "metadata": {},
   "outputs": [
    {
     "ename": "TypeError",
     "evalue": "'<' not supported between instances of 'pandas._libs.interval.Interval' and 'float'",
     "output_type": "error",
     "traceback": [
      "\u001b[31m---------------------------------------------------------------------------\u001b[39m",
      "\u001b[31mTypeError\u001b[39m                                 Traceback (most recent call last)",
      "\u001b[36mCell\u001b[39m\u001b[36m \u001b[39m\u001b[32mIn[48]\u001b[39m\u001b[32m, line 1\u001b[39m\n\u001b[32m----> \u001b[39m\u001b[32m1\u001b[39m X_sorted = \u001b[43mnp\u001b[49m\u001b[43m.\u001b[49m\u001b[43msort\u001b[49m\u001b[43m(\u001b[49m\u001b[43mnp\u001b[49m\u001b[43m.\u001b[49m\u001b[43masarray\u001b[49m\u001b[43m(\u001b[49m\u001b[43mX\u001b[49m\u001b[43m)\u001b[49m\u001b[43m)\u001b[49m\n\u001b[32m      2\u001b[39m n = X_sorted.size\n\u001b[32m      4\u001b[39m \u001b[38;5;66;03m# небольшие отступы слева/справа, чтобы ступеньки не упирались в края\u001b[39;00m\n",
      "\u001b[36mFile \u001b[39m\u001b[32m<__array_function__ internals>:180\u001b[39m, in \u001b[36msort\u001b[39m\u001b[34m(*args, **kwargs)\u001b[39m\n",
      "\u001b[36mFile \u001b[39m\u001b[32md:\\помощь\\.vscode\\.venv\\Lib\\site-packages\\numpy\\core\\fromnumeric.py:1004\u001b[39m, in \u001b[36msort\u001b[39m\u001b[34m(a, axis, kind, order)\u001b[39m\n\u001b[32m   1002\u001b[39m \u001b[38;5;28;01melse\u001b[39;00m:\n\u001b[32m   1003\u001b[39m     a = asanyarray(a).copy(order=\u001b[33m\"\u001b[39m\u001b[33mK\u001b[39m\u001b[33m\"\u001b[39m)\n\u001b[32m-> \u001b[39m\u001b[32m1004\u001b[39m \u001b[43ma\u001b[49m\u001b[43m.\u001b[49m\u001b[43msort\u001b[49m\u001b[43m(\u001b[49m\u001b[43maxis\u001b[49m\u001b[43m=\u001b[49m\u001b[43maxis\u001b[49m\u001b[43m,\u001b[49m\u001b[43m \u001b[49m\u001b[43mkind\u001b[49m\u001b[43m=\u001b[49m\u001b[43mkind\u001b[49m\u001b[43m,\u001b[49m\u001b[43m \u001b[49m\u001b[43morder\u001b[49m\u001b[43m=\u001b[49m\u001b[43morder\u001b[49m\u001b[43m)\u001b[49m\n\u001b[32m   1005\u001b[39m \u001b[38;5;28;01mreturn\u001b[39;00m a\n",
      "\u001b[31mTypeError\u001b[39m: '<' not supported between instances of 'pandas._libs.interval.Interval' and 'float'"
     ]
    }
   ],
   "source": [
    "X_sorted = np.sort(np.asarray(X))\n",
    "n = X_sorted.size\n",
    "\n",
    "# небольшие отступы слева/справа, чтобы ступеньки не упирались в края\n",
    "spread = X_sorted[-1] - X_sorted[0]\n",
    "pad = 0.05 * spread if spread > 0 else 1.0\n",
    "\n",
    "x_step = np.concatenate((\n",
    "    [X_sorted[0] - pad],\n",
    "    X_sorted,\n",
    "    [X_sorted[-1] + pad],\n",
    "))\n",
    "F = np.concatenate((\n",
    "    [0],\n",
    "    np.arange(1, n + 1) / n,\n",
    "    [1],\n",
    "))\n",
    "\n",
    "plt.step(x_step, F, where=\"post\", label=r\"$F_X^*(x)$\", linewidth=2)\n",
    "plt.xlim(x_step[0], x_step[-1])\n",
    "plt.ylim(-0.05, 1.05)\n",
    "plt.xlabel(\"Значения\")\n",
    "plt.ylabel(r\"$F_X^*(x)$\")\n",
    "plt.title(\"Эмпирическая функция распределения\")\n",
    "plt.legend()\n",
    "plt.grid(alpha=0.25)\n",
    "plt.show()\n"
   ]
  },
  {
   "cell_type": "markdown",
   "metadata": {},
   "source": [
    "<a id=\"2\"></a>"
   ]
  },
  {
   "cell_type": "markdown",
   "metadata": {},
   "source": [
    "# Раздел 2. Интервальные оценки"
   ]
  },
  {
   "cell_type": "markdown",
   "metadata": {},
   "source": [
    "<a id=\"21\"></a>"
   ]
  },
  {
   "cell_type": "markdown",
   "metadata": {},
   "source": [
    "## 2.1 Доверительные интервалы для математического ожидания"
   ]
  },
  {
   "cell_type": "markdown",
   "metadata": {},
   "source": [
    "### Условие"
   ]
  },
  {
   "cell_type": "markdown",
   "metadata": {},
   "source": [
    "Анализируемый признак – `B7` (Weight (lbs))\n",
    "\n",
    "Объём выборки – $n$ = `252`\n",
    "\n",
    "Оцениваемый параметр – `m`"
   ]
  },
  {
   "cell_type": "markdown",
   "metadata": {},
   "source": [
    "### Определения"
   ]
  },
  {
   "cell_type": "code",
   "execution_count": null,
   "metadata": {},
   "outputs": [
    {
     "data": {
      "text/plain": [
       "0    32.0\n",
       "1    30.5\n",
       "2    28.8\n",
       "3    32.4\n",
       "4    32.2\n",
       "Name: B16, dtype: float64"
      ]
     },
     "execution_count": 35,
     "metadata": {},
     "output_type": "execute_result"
    }
   ],
   "source": [
    "X = data(\"2.1\")[0]\n",
    "X.head()"
   ]
  },
  {
   "cell_type": "code",
   "execution_count": null,
   "metadata": {},
   "outputs": [
    {
     "name": "stdout",
     "output_type": "stream",
     "text": [
      "252\n"
     ]
    }
   ],
   "source": [
    "print(n := len(X))"
   ]
  },
  {
   "cell_type": "markdown",
   "metadata": {},
   "source": [
    "### Привести формулы расчёта доверительных интервалов"
   ]
  },
  {
   "cell_type": "markdown",
   "metadata": {},
   "source": [
    "Так как у нас есть только выборка, мы не можем знать параметров генеральной совокупности(в том числе $m$ и $\\sigma$), поэтому будем рассчитывать доверительные интервалы, используя данный факт. \n",
    "\n",
    "В данном случае `стьюдентизованное среднее` выступает в качестве центральной статистики:\n",
    "\n",
    "| Граница доверительного интервала | Формула расчёта                                                                               |\n",
    "| -------------------------------- | --------------------------------------------------------------------------------------------- |\n",
    "| Нижняя граница                   | $\\overline {\\mathbf{X}} - \\dfrac{S}{\\sqrt{n}} \\cdot t_{1-\\frac{\\alpha}{2}, \\left(n-1\\right)}$ |\n",
    "| Верхняя граница                  | $\\overline {\\mathbf{X}} + \\dfrac{S}{\\sqrt{n}} \\cdot t_{1-\\frac{\\alpha}{2}, \\left(n-1\\right)}$ |\n"
   ]
  },
  {
   "cell_type": "markdown",
   "metadata": {},
   "source": [
    "### Рассчитать доверительные интервалы"
   ]
  },
  {
   "cell_type": "code",
   "execution_count": null,
   "metadata": {},
   "outputs": [
    {
     "data": {
      "text/html": [
       "<div>\n",
       "<style scoped>\n",
       "    .dataframe tbody tr th:only-of-type {\n",
       "        vertical-align: middle;\n",
       "    }\n",
       "\n",
       "    .dataframe tbody tr th {\n",
       "        vertical-align: top;\n",
       "    }\n",
       "\n",
       "    .dataframe thead th {\n",
       "        text-align: right;\n",
       "    }\n",
       "</style>\n",
       "<table border=\"1\" class=\"dataframe\">\n",
       "  <thead>\n",
       "    <tr style=\"text-align: right;\">\n",
       "      <th></th>\n",
       "      <th>$\\alpha =$ 0.01</th>\n",
       "      <th>$\\alpha =$ 0.05</th>\n",
       "      <th>$\\alpha =$ 0.1</th>\n",
       "    </tr>\n",
       "    <tr>\n",
       "      <th>Граница доверительного интервала</th>\n",
       "      <th></th>\n",
       "      <th></th>\n",
       "      <th></th>\n",
       "    </tr>\n",
       "  </thead>\n",
       "  <tbody>\n",
       "    <tr>\n",
       "      <th>Нижняя граница</th>\n",
       "      <td>31.779420</td>\n",
       "      <td>31.898580</td>\n",
       "      <td>31.959201</td>\n",
       "    </tr>\n",
       "    <tr>\n",
       "      <th>Верхняя граница</th>\n",
       "      <td>32.767405</td>\n",
       "      <td>32.648245</td>\n",
       "      <td>32.587625</td>\n",
       "    </tr>\n",
       "  </tbody>\n",
       "</table>\n",
       "</div>"
      ],
      "text/plain": [
       "                                  $\\alpha =$ 0.01  $\\alpha =$ 0.05  \\\n",
       "Граница доверительного интервала                                     \n",
       "Нижняя граница                          31.779420        31.898580   \n",
       "Верхняя граница                         32.767405        32.648245   \n",
       "\n",
       "                                  $\\alpha =$ 0.1  \n",
       "Граница доверительного интервала                  \n",
       "Нижняя граница                         31.959201  \n",
       "Верхняя граница                        32.587625  "
      ]
     },
     "execution_count": 37,
     "metadata": {},
     "output_type": "execute_result"
    }
   ],
   "source": [
    "intervals = pd.DataFrame(\n",
    "    index=pd.Index(\n",
    "        [\"Нижняя граница\", \"Верхняя граница\"], name=\"Граница доверительного интервала\"\n",
    "    )\n",
    ")\n",
    "alphas = [0.01, 0.05, 0.1]\n",
    "std_err = stats.sem(X)\n",
    "for alpha in alphas:\n",
    "    intervals[f\"$\\\\alpha =$ {alpha}\"] = stats.t.interval(\n",
    "        1 - alpha, df=n - 1, loc=X.mean(), scale=std_err\n",
    "    )\n",
    "intervals"
   ]
  },
  {
   "cell_type": "code",
   "execution_count": null,
   "metadata": {},
   "outputs": [
    {
     "name": "stdout",
     "output_type": "stream",
     "text": [
      "| Граница доверительного интервала | $\\alpha =$ 0.01 | $\\alpha =$ 0.05 | $\\alpha =$ 0.1 |\n",
      "|---|---|---|---|\n",
      "| Нижняя граница | 31.78 | 31.9 | 31.96 |\n",
      "| Верхняя граница | 32.77 | 32.65 | 32.59 |\n",
      "\n"
     ]
    }
   ],
   "source": [
    "print(dataframe_to_markdown(intervals))"
   ]
  },
  {
   "cell_type": "markdown",
   "metadata": {},
   "source": [
    "| Граница доверительного интервала | $\\alpha =$ 0.01 | $\\alpha =$ 0.05 | $\\alpha =$ 0.1 |\n",
    "| -------------------------------- | --------------- | --------------- | -------------- |\n",
    "| Нижняя граница                   | 31.78          | 31.9         | 31.96         |\n",
    "| Верхняя граница                  | 32.77         | 32.65         | 32.59        |"
   ]
  },
  {
   "cell_type": "markdown",
   "metadata": {},
   "source": [
    "<a id=\"22\"></a>"
   ]
  },
  {
   "cell_type": "markdown",
   "metadata": {},
   "source": [
    "## 2.2 Доверительные интервалы для дисперсии"
   ]
  },
  {
   "cell_type": "markdown",
   "metadata": {},
   "source": [
    "### Условие"
   ]
  },
  {
   "cell_type": "markdown",
   "metadata": {},
   "source": [
    "Анализируемый признак  – `B7` (Weight (lbs))\n",
    "\n",
    "Объём выборки – $n$ = `252`\n",
    "\n",
    "Оцениваемый параметр – $\\sigma^2$"
   ]
  },
  {
   "cell_type": "markdown",
   "metadata": {},
   "source": [
    "### Определения"
   ]
  },
  {
   "cell_type": "code",
   "execution_count": null,
   "metadata": {},
   "outputs": [
    {
     "data": {
      "text/plain": [
       "0    32.0\n",
       "1    30.5\n",
       "2    28.8\n",
       "3    32.4\n",
       "4    32.2\n",
       "Name: B16, dtype: float64"
      ]
     },
     "execution_count": 45,
     "metadata": {},
     "output_type": "execute_result"
    }
   ],
   "source": [
    "X = data(\"2.2\")[0]\n",
    "X.head()"
   ]
  },
  {
   "cell_type": "code",
   "execution_count": null,
   "metadata": {},
   "outputs": [
    {
     "name": "stdout",
     "output_type": "stream",
     "text": [
      "252\n"
     ]
    }
   ],
   "source": [
    "print(n := len(X))"
   ]
  },
  {
   "cell_type": "markdown",
   "metadata": {},
   "source": [
    "### Привести формулы расчёта доверительных интервалов"
   ]
  },
  {
   "cell_type": "markdown",
   "metadata": {},
   "source": [
    "| Граница доверительного интервала | Формула расчёта                                                                               |\n",
    "| -------------------------------- | --------------------------------------------------------------------------------------------- |\n",
    "| Нижняя граница                   | $\\dfrac{\\left(n-1\\right) \\cdot S^2}{\\chi^2_{1-\\frac{\\alpha}{2}, \\left(n-1\\right)}}$ |\n",
    "| Верхняя граница                  | $\\dfrac{\\left(n-1\\right) \\cdot S^2}{\\chi^2_{\\frac{\\alpha}{2}, \\left(n-1\\right)}}$ |\n"
   ]
  },
  {
   "cell_type": "markdown",
   "metadata": {},
   "source": [
    "### Рассчитать доверительные интервалы"
   ]
  },
  {
   "cell_type": "code",
   "execution_count": null,
   "metadata": {},
   "outputs": [
    {
     "data": {
      "text/html": [
       "<div>\n",
       "<style scoped>\n",
       "    .dataframe tbody tr th:only-of-type {\n",
       "        vertical-align: middle;\n",
       "    }\n",
       "\n",
       "    .dataframe tbody tr th {\n",
       "        vertical-align: top;\n",
       "    }\n",
       "\n",
       "    .dataframe thead th {\n",
       "        text-align: right;\n",
       "    }\n",
       "</style>\n",
       "<table border=\"1\" class=\"dataframe\">\n",
       "  <thead>\n",
       "    <tr style=\"text-align: right;\">\n",
       "      <th></th>\n",
       "      <th>$\\alpha =$ 0.01</th>\n",
       "      <th>$\\alpha =$ 0.05</th>\n",
       "      <th>$\\alpha =$ 0.1</th>\n",
       "    </tr>\n",
       "    <tr>\n",
       "      <th>Граница доверительного интервала</th>\n",
       "      <th></th>\n",
       "      <th></th>\n",
       "      <th></th>\n",
       "    </tr>\n",
       "  </thead>\n",
       "  <tbody>\n",
       "    <tr>\n",
       "      <th>Нижняя граница</th>\n",
       "      <td>7.332595</td>\n",
       "      <td>7.720132</td>\n",
       "      <td>7.929094</td>\n",
       "    </tr>\n",
       "    <tr>\n",
       "      <th>Верхняя граница</th>\n",
       "      <td>11.627525</td>\n",
       "      <td>10.961915</td>\n",
       "      <td>10.640781</td>\n",
       "    </tr>\n",
       "  </tbody>\n",
       "</table>\n",
       "</div>"
      ],
      "text/plain": [
       "                                  $\\alpha =$ 0.01  $\\alpha =$ 0.05  \\\n",
       "Граница доверительного интервала                                     \n",
       "Нижняя граница                           7.332595         7.720132   \n",
       "Верхняя граница                         11.627525        10.961915   \n",
       "\n",
       "                                  $\\alpha =$ 0.1  \n",
       "Граница доверительного интервала                  \n",
       "Нижняя граница                          7.929094  \n",
       "Верхняя граница                        10.640781  "
      ]
     },
     "execution_count": 47,
     "metadata": {},
     "output_type": "execute_result"
    }
   ],
   "source": [
    "intervals = pd.DataFrame(\n",
    "    index=pd.Index(\n",
    "        [\"Нижняя граница\", \"Верхняя граница\"], name=\"Граница доверительного интервала\"\n",
    "    )\n",
    ")\n",
    "alphas = [0.01, 0.05, 0.1]\n",
    "for alpha in alphas:\n",
    "    chi2_upper, chi2_lower = stats.chi2.interval(1 - alpha, df=n - 1)\n",
    "    intervals[f\"$\\\\alpha =$ {alpha}\"] = [\n",
    "        (n - 1) * X.var(ddof=1) / chi2_lower,\n",
    "        (n - 1) * X.var(ddof=1) / chi2_upper,\n",
    "    ]\n",
    "intervals"
   ]
  },
  {
   "cell_type": "code",
   "execution_count": null,
   "metadata": {},
   "outputs": [
    {
     "name": "stdout",
     "output_type": "stream",
     "text": [
      "| Граница доверительного интервала | $\\alpha =$ 0.01 | $\\alpha =$ 0.05 | $\\alpha =$ 0.1 |\n",
      "|---|---|---|---|\n",
      "| Нижняя граница | 7.33 | 7.72 | 7.93 |\n",
      "| Верхняя граница | 11.63 | 10.96 | 10.64 |\n",
      "\n"
     ]
    }
   ],
   "source": [
    "print(dataframe_to_markdown(intervals))"
   ]
  },
  {
   "cell_type": "markdown",
   "metadata": {},
   "source": [
    "| Граница доверительного интервала | $\\alpha =$ 0.01 | $\\alpha =$ 0.05 | $\\alpha =$ 0.1 |\n",
    "| -------------------------------- | --------------- | --------------- | -------------- |\n",
    "| Нижняя граница                   | 7.33            | 7.72            | 7.93           |\n",
    "| Верхняя граница                  | 11.63           | 10.96           | 10.64          |"
   ]
  },
  {
   "cell_type": "markdown",
   "metadata": {},
   "source": [
    "<a id=\"23\"></a>"
   ]
  },
  {
   "cell_type": "markdown",
   "metadata": {},
   "source": [
    "## 2.3 Доверительные интервалы для разности мат. ожиданий"
   ]
  },
  {
   "cell_type": "markdown",
   "metadata": {},
   "source": [
    "### Условие"
   ]
  },
  {
   "cell_type": "markdown",
   "metadata": {},
   "source": [
    "Анализируемый признак 1 – `B11` (Abdomen circumference (cm))\n",
    "\n",
    "Анализируемый признак 2 – `B12` (Hip circumference (cm))\n",
    "\n",
    "Объёмы выборок – $n_1 = n_2 = 252$\n",
    "\n",
    "Оцениваемый параметр – $m_1 - m_2$"
   ]
  },
  {
   "cell_type": "markdown",
   "metadata": {},
   "source": [
    "### Определения"
   ]
  },
  {
   "cell_type": "code",
   "execution_count": null,
   "metadata": {},
   "outputs": [
    {
     "data": {
      "text/plain": [
       "(0    32.0\n",
       " 1    30.5\n",
       " 2    28.8\n",
       " 3    32.4\n",
       " 4    32.2\n",
       " Name: B16, dtype: float64,\n",
       " 0    27.4\n",
       " 1    28.9\n",
       " 2    25.2\n",
       " 3    29.4\n",
       " 4    27.7\n",
       " Name: B17, dtype: float64)"
      ]
     },
     "execution_count": 49,
     "metadata": {},
     "output_type": "execute_result"
    }
   ],
   "source": [
    "X1, X2 = data(\"2.3\")\n",
    "X1.head(), X2.head()"
   ]
  },
  {
   "cell_type": "code",
   "execution_count": null,
   "metadata": {},
   "outputs": [
    {
     "name": "stdout",
     "output_type": "stream",
     "text": [
      "252 252\n"
     ]
    }
   ],
   "source": [
    "print(n1 := len(X1), n2 := len(X2))"
   ]
  },
  {
   "cell_type": "markdown",
   "metadata": {},
   "source": [
    "### Привести формулы расчёта доверительных интервалов"
   ]
  },
  {
   "cell_type": "markdown",
   "metadata": {},
   "source": [
    "| Граница доверительного интервала | Формула расчёта                                                                                                                                                 |\n",
    "| -------------------------------- | --------------------------------------------------------------------------------------------------------------------------------------------------------------- |\n",
    "| Нижняя граница                   | $\\left(\\overline{\\mathbf{X_1}} - \\overline{\\mathbf{X_2}}\\right) - t_{1-\\frac{\\alpha}{2}, (n_1 + n_2 -2)} \\cdot S \\cdot \\sqrt{\\dfrac{1}{n_1} + \\dfrac{1}{n_2}} $ |\n",
    "| Верхняя граница                  | $\\left(\\overline{\\mathbf{X_1}} - \\overline{\\mathbf{X_2}}\\right) + t_{1-\\frac{\\alpha}{2}, (n_1 + n_2 -2)} \\cdot S \\cdot \\sqrt{\\dfrac{1}{n_1} + \\dfrac{1}{n_2}} $ |\n",
    "| $S$                              | $\\sqrt{\\dfrac{(n_1 - 1)S_1^2 + (n_2-1) S_2^2}{n_1 + n_2 -2}}  $                                                                                                 |\n"
   ]
  },
  {
   "cell_type": "markdown",
   "metadata": {},
   "source": [
    "### Рассчитать доверительные интервалы"
   ]
  },
  {
   "cell_type": "code",
   "execution_count": null,
   "metadata": {},
   "outputs": [
    {
     "data": {
      "text/html": [
       "<div>\n",
       "<style scoped>\n",
       "    .dataframe tbody tr th:only-of-type {\n",
       "        vertical-align: middle;\n",
       "    }\n",
       "\n",
       "    .dataframe tbody tr th {\n",
       "        vertical-align: top;\n",
       "    }\n",
       "\n",
       "    .dataframe thead th {\n",
       "        text-align: right;\n",
       "    }\n",
       "</style>\n",
       "<table border=\"1\" class=\"dataframe\">\n",
       "  <thead>\n",
       "    <tr style=\"text-align: right;\">\n",
       "      <th></th>\n",
       "      <th>$\\alpha =$ 0.01</th>\n",
       "      <th>$\\alpha =$ 0.05</th>\n",
       "      <th>$\\alpha =$ 0.1</th>\n",
       "    </tr>\n",
       "    <tr>\n",
       "      <th>Граница доверительного интервала</th>\n",
       "      <th></th>\n",
       "      <th></th>\n",
       "      <th></th>\n",
       "    </tr>\n",
       "  </thead>\n",
       "  <tbody>\n",
       "    <tr>\n",
       "      <th>Нижняя граница</th>\n",
       "      <td>3.017494</td>\n",
       "      <td>3.159673</td>\n",
       "      <td>3.232211</td>\n",
       "    </tr>\n",
       "    <tr>\n",
       "      <th>Верхняя граница</th>\n",
       "      <td>4.201553</td>\n",
       "      <td>4.059375</td>\n",
       "      <td>3.986837</td>\n",
       "    </tr>\n",
       "  </tbody>\n",
       "</table>\n",
       "</div>"
      ],
      "text/plain": [
       "                                  $\\alpha =$ 0.01  $\\alpha =$ 0.05  \\\n",
       "Граница доверительного интервала                                     \n",
       "Нижняя граница                           3.017494         3.159673   \n",
       "Верхняя граница                          4.201553         4.059375   \n",
       "\n",
       "                                  $\\alpha =$ 0.1  \n",
       "Граница доверительного интервала                  \n",
       "Нижняя граница                          3.232211  \n",
       "Верхняя граница                         3.986837  "
      ]
     },
     "execution_count": 51,
     "metadata": {},
     "output_type": "execute_result"
    }
   ],
   "source": [
    "intervals = pd.DataFrame(\n",
    "    index=pd.Index(\n",
    "        [\"Нижняя граница\", \"Верхняя граница\"], name=\"Граница доверительного интервала\"\n",
    "    )\n",
    ")\n",
    "alphas = [0.01, 0.05, 0.1]\n",
    "std_err = m.sqrt(\n",
    "    ((n1 - 1) * X1.var(ddof=1) + (n2 - 1) * X2.var(ddof=1))\n",
    "    / (n1 + n2 - 2)\n",
    "    * (1 / n1 + 1 / n2)\n",
    ")\n",
    "for alpha in alphas:\n",
    "    intervals[f\"$\\\\alpha =$ {alpha}\"] = stats.t.interval(\n",
    "        1 - alpha, df=n1 + n2 - 2, loc=X1.mean() - X2.mean(), scale=std_err\n",
    "    )\n",
    "intervals"
   ]
  },
  {
   "cell_type": "code",
   "execution_count": null,
   "metadata": {},
   "outputs": [
    {
     "name": "stdout",
     "output_type": "stream",
     "text": [
      "| Граница доверительного интервала | $\\alpha =$ 0.01 | $\\alpha =$ 0.05 | $\\alpha =$ 0.1 |\n",
      "|---|---|---|---|\n",
      "| Нижняя граница | 3.02 | 3.16 | 3.23 |\n",
      "| Верхняя граница | 4.2 | 4.06 | 3.99 |\n",
      "\n"
     ]
    }
   ],
   "source": [
    "print(dataframe_to_markdown(intervals))"
   ]
  },
  {
   "cell_type": "markdown",
   "metadata": {},
   "source": [
    "| Граница доверительного интервала | $\\alpha =$ 0.01 | $\\alpha =$ 0.05 | $\\alpha =$ 0.1 |\n",
    "| -------------------------------- | --------------- | --------------- | -------------- |\n",
    "| Нижняя граница                   | 3.02            | 3.16            | 3.23           |\n",
    "| Верхняя граница                  | 4.2             | 4.06            | 3.99           |"
   ]
  },
  {
   "cell_type": "markdown",
   "metadata": {},
   "source": [
    "<a id=\"24\"></a>"
   ]
  },
  {
   "cell_type": "markdown",
   "metadata": {},
   "source": [
    "## 2.4. Доверительные интервалы для отношения дисперсий"
   ]
  },
  {
   "cell_type": "markdown",
   "metadata": {},
   "source": [
    "### Условие"
   ]
  },
  {
   "cell_type": "markdown",
   "metadata": {},
   "source": [
    "Анализируемый признак 1 – `B11` (Abdomen circumference (cm))\n",
    "\n",
    "Анализируемый признак 2 – `B12` (Hip circumference (cm))\n",
    "\n",
    "Объёмы выборок – $n_1 = n_2 = 252$\n",
    "\n",
    "Оцениваемый параметр – $\\dfrac{\\sigma_1^2}{\\sigma_2^2}$\n"
   ]
  },
  {
   "cell_type": "markdown",
   "metadata": {},
   "source": [
    "### Определения"
   ]
  },
  {
   "cell_type": "code",
   "execution_count": null,
   "metadata": {},
   "outputs": [
    {
     "data": {
      "text/plain": [
       "(0    32.0\n",
       " 1    30.5\n",
       " 2    28.8\n",
       " 3    32.4\n",
       " 4    32.2\n",
       " Name: B16, dtype: float64,\n",
       " 0    27.4\n",
       " 1    28.9\n",
       " 2    25.2\n",
       " 3    29.4\n",
       " 4    27.7\n",
       " Name: B17, dtype: float64)"
      ]
     },
     "execution_count": 53,
     "metadata": {},
     "output_type": "execute_result"
    }
   ],
   "source": [
    "X1, X2 = data(\"2.4\")\n",
    "X1.head(), X2.head()"
   ]
  },
  {
   "cell_type": "code",
   "execution_count": null,
   "metadata": {},
   "outputs": [
    {
     "name": "stdout",
     "output_type": "stream",
     "text": [
      "252 252\n"
     ]
    }
   ],
   "source": [
    "print(n1 := len(X1), n2 := len(X2))"
   ]
  },
  {
   "cell_type": "markdown",
   "metadata": {},
   "source": [
    "### Привести формулы расчёта доверительных интервалов"
   ]
  },
  {
   "cell_type": "markdown",
   "metadata": {},
   "source": [
    "| Граница доверительного интервала | Формула расчёта                                                       |\n",
    "| -------------------------------- | --------------------------------------------------------------------- |\n",
    "| Нижняя граница                   | $\\dfrac{S_1^2}{S_2^2} \\cdot F_{\\frac{\\alpha}{2}, (n_1-1, n_2-1)}$     |\n",
    "| Верхняя граница                  | $\\dfrac{S_1^2}{S_2^2} \\cdot F_{1 - \\frac{\\alpha}{2}, (n_1-1, n_2-1)}$ |"
   ]
  },
  {
   "cell_type": "markdown",
   "metadata": {},
   "source": [
    "### Рассчитать доверительные интервалы"
   ]
  },
  {
   "cell_type": "code",
   "execution_count": null,
   "metadata": {},
   "outputs": [
    {
     "data": {
      "text/html": [
       "<div>\n",
       "<style scoped>\n",
       "    .dataframe tbody tr th:only-of-type {\n",
       "        vertical-align: middle;\n",
       "    }\n",
       "\n",
       "    .dataframe tbody tr th {\n",
       "        vertical-align: top;\n",
       "    }\n",
       "\n",
       "    .dataframe thead th {\n",
       "        text-align: right;\n",
       "    }\n",
       "</style>\n",
       "<table border=\"1\" class=\"dataframe\">\n",
       "  <thead>\n",
       "    <tr style=\"text-align: right;\">\n",
       "      <th></th>\n",
       "      <th>$\\alpha =$ 0.01</th>\n",
       "      <th>$\\alpha =$ 0.05</th>\n",
       "      <th>$\\alpha =$ 0.1</th>\n",
       "    </tr>\n",
       "    <tr>\n",
       "      <th>Граница доверительного интервала</th>\n",
       "      <th></th>\n",
       "      <th></th>\n",
       "      <th></th>\n",
       "    </tr>\n",
       "  </thead>\n",
       "  <tbody>\n",
       "    <tr>\n",
       "      <th>Нижняя граница</th>\n",
       "      <td>1.613274</td>\n",
       "      <td>1.744541</td>\n",
       "      <td>1.815643</td>\n",
       "    </tr>\n",
       "    <tr>\n",
       "      <th>Верхняя граница</th>\n",
       "      <td>3.097793</td>\n",
       "      <td>2.864702</td>\n",
       "      <td>2.752518</td>\n",
       "    </tr>\n",
       "  </tbody>\n",
       "</table>\n",
       "</div>"
      ],
      "text/plain": [
       "                                  $\\alpha =$ 0.01  $\\alpha =$ 0.05  \\\n",
       "Граница доверительного интервала                                     \n",
       "Нижняя граница                           1.613274         1.744541   \n",
       "Верхняя граница                          3.097793         2.864702   \n",
       "\n",
       "                                  $\\alpha =$ 0.1  \n",
       "Граница доверительного интервала                  \n",
       "Нижняя граница                          1.815643  \n",
       "Верхняя граница                         2.752518  "
      ]
     },
     "execution_count": 55,
     "metadata": {},
     "output_type": "execute_result"
    }
   ],
   "source": [
    "intervals = pd.DataFrame(\n",
    "    index=pd.Index(\n",
    "        [\"Нижняя граница\", \"Верхняя граница\"], name=\"Граница доверительного интервала\"\n",
    "    )\n",
    ")\n",
    "alphas = [0.01, 0.05, 0.1]\n",
    "for alpha in alphas:\n",
    "    intervals[f\"$\\\\alpha =$ {alpha}\"] = stats.f.interval(\n",
    "        1 - alpha, dfn=n1 - 1, dfd=n2 - 1, loc=0, scale=X1.var(ddof=1) / X2.var(ddof=1)\n",
    "    )\n",
    "intervals"
   ]
  },
  {
   "cell_type": "code",
   "execution_count": null,
   "metadata": {},
   "outputs": [
    {
     "name": "stdout",
     "output_type": "stream",
     "text": [
      "| Граница доверительного интервала | $\\alpha =$ 0.01 | $\\alpha =$ 0.05 | $\\alpha =$ 0.1 |\n",
      "|---|---|---|---|\n",
      "| Нижняя граница | 1.61 | 1.74 | 1.82 |\n",
      "| Верхняя граница | 3.1 | 2.86 | 2.75 |\n",
      "\n"
     ]
    }
   ],
   "source": [
    "print(dataframe_to_markdown(intervals))"
   ]
  },
  {
   "cell_type": "markdown",
   "metadata": {},
   "source": [
    "| Граница доверительного интервала | $\\alpha =$ 0.01 | $\\alpha =$ 0.05 | $\\alpha =$ 0.1 |\n",
    "| -------------------------------- | --------------- | --------------- | -------------- |\n",
    "| Нижняя граница                   | 1.61            | 1.74            | 1.82           |\n",
    "| Верхняя граница                  | 3.1            | 2.86             | 2.75           |"
   ]
  },
  {
   "cell_type": "markdown",
   "metadata": {},
   "source": [
    "<a id=\"3\"></a>"
   ]
  }
 ],
 "metadata": {
  "kernelspec": {
   "display_name": ".venv",
   "language": "python",
   "name": "python3"
  },
  "language_info": {
   "codemirror_mode": {
    "name": "ipython",
    "version": 3
   },
   "file_extension": ".py",
   "mimetype": "text/x-python",
   "name": "python",
   "nbconvert_exporter": "python",
   "pygments_lexer": "ipython3",
   "version": "3.11.9"
  }
 },
 "nbformat": 4,
 "nbformat_minor": 2
}
